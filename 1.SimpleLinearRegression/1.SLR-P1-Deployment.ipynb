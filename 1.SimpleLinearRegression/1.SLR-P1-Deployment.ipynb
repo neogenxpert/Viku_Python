{
 "cells": [
  {
   "cell_type": "code",
   "execution_count": 4,
   "id": "e4b1580e-d93f-43f1-afe8-40da4208494f",
   "metadata": {},
   "outputs": [],
   "source": [
    "#Phase 2  Model Deployment\n",
    "import pickle"
   ]
  },
  {
   "cell_type": "code",
   "execution_count": 5,
   "id": "1280774b-3f85-414b-b113-1aaa54292580",
   "metadata": {},
   "outputs": [
    {
     "name": "stdin",
     "output_type": "stream",
     "text": [
      "Enter the Year of Experience 30\n"
     ]
    },
    {
     "name": "stderr",
     "output_type": "stream",
     "text": [
      "/Volumes/OtherData/Ananconda_Install/Exe_file/anaconda3/lib/python3.13/site-packages/sklearn/utils/validation.py:2739: UserWarning: X does not have valid feature names, but LinearRegression was fitted with feature names\n",
      "  warnings.warn(\n"
     ]
    },
    {
     "data": {
      "text/plain": [
       "array([[307585.22992701]])"
      ]
     },
     "execution_count": 5,
     "metadata": {},
     "output_type": "execute_result"
    }
   ],
   "source": [
    "# Getting the input value and predict teh output\n",
    "val=float(input(\"Enter the Year of Experience\"))\n",
    "model=pickle.load(open(\"Sal_model_linear.sav\",'rb'))\n",
    "output = model.predict([[val]])\n",
    "output"
   ]
  },
  {
   "cell_type": "code",
   "execution_count": null,
   "id": "26e96878-6f0b-4c0b-ac35-94d6a3c4d5c6",
   "metadata": {},
   "outputs": [],
   "source": []
  }
 ],
 "metadata": {
  "kernelspec": {
   "display_name": "Python [conda env:base] *",
   "language": "python",
   "name": "conda-base-py"
  },
  "language_info": {
   "codemirror_mode": {
    "name": "ipython",
    "version": 3
   },
   "file_extension": ".py",
   "mimetype": "text/x-python",
   "name": "python",
   "nbconvert_exporter": "python",
   "pygments_lexer": "ipython3",
   "version": "3.13.5"
  }
 },
 "nbformat": 4,
 "nbformat_minor": 5
}
