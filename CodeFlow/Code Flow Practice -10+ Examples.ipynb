{
 "cells": [
  {
   "cell_type": "code",
   "execution_count": 1,
   "id": "368ef371-5286-48e1-9a40-03c99660f65b",
   "metadata": {},
   "outputs": [],
   "source": [
    "cart_items = [\"Laptop\", \"Mouse\", \"Keyboard\", \"Monitor\"]\n",
    "item_prices = {\"Laptop\": 1000, \"Mouse\": 20, \"Keyboard\": 50, \"Monitor\": 300}"
   ]
  },
  {
   "cell_type": "code",
   "execution_count": 2,
   "id": "6d12c890-2491-43a5-a76d-e4147d26fc3b",
   "metadata": {},
   "outputs": [
    {
     "name": "stdout",
     "output_type": "stream",
     "text": [
      "Total Cost before discount: 1370\n"
     ]
    }
   ],
   "source": [
    "# Calculate the total cost\n",
    "total_cost = sum(item_prices[item] for item in cart_items)\n",
    "print(\"Total Cost before discount:\", total_cost)"
   ]
  },
  {
   "cell_type": "code",
   "execution_count": 3,
   "id": "1469282f-0bff-464b-bde7-85b5a6a3b7de",
   "metadata": {},
   "outputs": [
    {
     "name": "stdout",
     "output_type": "stream",
     "text": [
      "Total Cost after discount: 1233.0\n"
     ]
    }
   ],
   "source": [
    "discount_rate = 0.1  # 10% discount\n",
    "if total_cost > 200:\n",
    "    total_cost -= total_cost * discount_rate\n",
    "print(\"Total Cost after discount:\", total_cost)"
   ]
  },
  {
   "cell_type": "code",
   "execution_count": 4,
   "id": "8e30b22e-7c00-4e4a-a35b-18771455a3f7",
   "metadata": {},
   "outputs": [],
   "source": [
    "class CustomerOrder:\n",
    "    def __init__(self, items, total_cost, discount):\n",
    "        self.items = items\n",
    "        self.total_cost = total_cost\n",
    "        self.discount = discount\n",
    "\n",
    "    def display_order_summary(self):\n",
    "        print(\"Order Summary:\")\n",
    "        print(\"Items:\", ', '.join(self.items))\n",
    "        print(\"Total Cost:\", self.total_cost)\n",
    "        print(\"Discount Applied:\", self.discount)"
   ]
  },
  {
   "cell_type": "code",
   "execution_count": 6,
   "id": "0807d60e-9d0a-41a6-9231-3911a7726181",
   "metadata": {},
   "outputs": [
    {
     "name": "stdout",
     "output_type": "stream",
     "text": [
      "Order Summary:\n",
      "Items: Laptop, Mouse, Keyboard, Monitor\n",
      "Total Cost: 1233.0\n",
      "Discount Applied: 0.1\n"
     ]
    }
   ],
   "source": [
    "customer_order = CustomerOrder(cart_items, total_cost, discount_rate)\n",
    "customer_order.display_order_summary()"
   ]
  },
  {
   "cell_type": "code",
   "execution_count": null,
   "id": "a62224f6-41aa-48f5-8e0a-f54a8abbfb99",
   "metadata": {},
   "outputs": [],
   "source": []
  },
  {
   "cell_type": "code",
   "execution_count": null,
   "id": "4e7e2080-cb75-419c-8ce3-f5be7b565646",
   "metadata": {},
   "outputs": [],
   "source": []
  },
  {
   "cell_type": "code",
   "execution_count": 7,
   "id": "a0055de7-7ebf-4bd9-b1ba-b6cbd6869f7b",
   "metadata": {},
   "outputs": [],
   "source": []
  },
  {
   "cell_type": "code",
   "execution_count": 8,
   "id": "d3a66d7b-9324-4894-b4be-e99867895c7e",
   "metadata": {},
   "outputs": [
    {
     "name": "stdout",
     "output_type": "stream",
     "text": [
      "Employee Details:\n",
      "John - Department: HR, Salary: $50000\n",
      "Alice - Department: Engineering, Salary: $70000\n",
      "Bob - Department: Marketing, Salary: $60000\n"
     ]
    }
   ],
   "source": []
  },
  {
   "cell_type": "code",
   "execution_count": 9,
   "id": "698e2926-cd58-490e-a90d-4c6120fa1b66",
   "metadata": {},
   "outputs": [
    {
     "name": "stdout",
     "output_type": "stream",
     "text": [
      "\n",
      "Total Salaries by Department:\n",
      "HR: $50000\n",
      "Engineering: $70000\n",
      "Marketing: $60000\n"
     ]
    }
   ],
   "source": [
    "department_salaries = {}\n",
    "for employee, details in employees.items():\n",
    "    department = details[\"department\"]\n",
    "    salary = details[\"salary\"]\n",
    "    department_salaries[department] = department_salaries.get(department, 0) + salary\n",
    "\n",
    "# Display total salaries for each department\n",
    "print(\"\\nTotal Salaries by Department:\")\n",
    "for department, total_salary in department_salaries.items():\n",
    "    print(f\"{department}: ${total_salary}\")\n"
   ]
  },
  {
   "cell_type": "code",
   "execution_count": 10,
   "id": "014ebd6f-66a0-4129-adec-c3eab0320e08",
   "metadata": {},
   "outputs": [
    {
     "name": "stdout",
     "output_type": "stream",
     "text": [
      "\n",
      "Employee Details After Raise:\n",
      "John - Department: HR, Salary: $50000\n",
      "Alice - Department: Engineering, Salary: $77000.0\n",
      "Bob - Department: Marketing, Salary: $60000\n"
     ]
    }
   ],
   "source": []
  },
  {
   "cell_type": "code",
   "execution_count": null,
   "id": "fa027b12-ae20-470c-842e-494949bece91",
   "metadata": {},
   "outputs": [],
   "source": []
  },
  {
   "cell_type": "code",
   "execution_count": null,
   "id": "4d2ffd43-35b8-4553-8f9f-53f572f46d48",
   "metadata": {},
   "outputs": [],
   "source": []
  },
  {
   "cell_type": "code",
   "execution_count": 11,
   "id": "c7922d99-c8ba-4365-bb6b-b712354963ee",
   "metadata": {},
   "outputs": [],
   "source": [
    "library_books = {\n",
    "    \"Python Programming\": 5,\n",
    "    \"Data Science for Beginners\": 3,\n",
    "    \"Classic Novels Collection\": 8,\n",
    "    \"Web Development Basics\": 6,\n",
    "    \"Introduction to AI\": 4\n",
    "}\n"
   ]
  },
  {
   "cell_type": "code",
   "execution_count": 12,
   "id": "9a3ccc7e-1bf3-4111-8d93-4289eb48a979",
   "metadata": {},
   "outputs": [
    {
     "name": "stdout",
     "output_type": "stream",
     "text": [
      "Available Books:\n",
      "Python Programming - Copies available: 5\n",
      "Data Science for Beginners - Copies available: 3\n",
      "Classic Novels Collection - Copies available: 8\n",
      "Web Development Basics - Copies available: 6\n",
      "Introduction to AI - Copies available: 4\n"
     ]
    }
   ],
   "source": [
    "# Display available books\n",
    "print(\"Available Books:\")\n",
    "for book, copies in library_books.items():\n",
    "    print(f\"{book} - Copies available: {copies}\")\n"
   ]
  },
  {
   "cell_type": "code",
   "execution_count": 16,
   "id": "5917f24d-a275-4c0f-be30-f52dd8c03360",
   "metadata": {},
   "outputs": [
    {
     "name": "stdin",
     "output_type": "stream",
     "text": [
      "Enter the book you want to borrow:  Introduction to AI\n"
     ]
    }
   ],
   "source": [
    "# Second code snippet: Simulate a user borrowing a book\n",
    "user_book = input(\"Enter the book you want to borrow: \")"
   ]
  },
  {
   "cell_type": "code",
   "execution_count": 17,
   "id": "a614c389-e65a-492f-8d3f-a99d11d74ec9",
   "metadata": {},
   "outputs": [
    {
     "name": "stdout",
     "output_type": "stream",
     "text": [
      "Book 'Introduction to AI' borrowed successfully!\n"
     ]
    }
   ],
   "source": []
  },
  {
   "cell_type": "code",
   "execution_count": 18,
   "id": "56a23d91-5db8-457d-9bbb-e021befeb5f1",
   "metadata": {},
   "outputs": [
    {
     "name": "stdout",
     "output_type": "stream",
     "text": [
      "\n",
      "Updated Available Books:\n",
      "Python Programming - Copies available: 5\n",
      "Data Science for Beginners - Copies available: 3\n",
      "Classic Novels Collection - Copies available: 8\n",
      "Web Development Basics - Copies available: 6\n",
      "Introduction to AI - Copies available: 3\n"
     ]
    }
   ],
   "source": [
    "# Display updated available books after the user borrows a book\n",
    "print(\"\\nUpdated Available Books:\")\n",
    "for book, copies in library_books.items():\n",
    "    print(f\"{book} - Copies available: {copies}\")"
   ]
  },
  {
   "cell_type": "code",
   "execution_count": null,
   "id": "89b51ea4-092a-4e71-b62c-c6ba8a5b2fe8",
   "metadata": {},
   "outputs": [],
   "source": []
  },
  {
   "cell_type": "code",
   "execution_count": null,
   "id": "b76676d1-705f-4bcd-a794-685efc02951d",
   "metadata": {},
   "outputs": [],
   "source": []
  },
  {
   "cell_type": "code",
   "execution_count": 19,
   "id": "1ad262c1-d87d-472f-a608-4812676319ab",
   "metadata": {},
   "outputs": [],
   "source": [
    "store_inventory = {\n",
    "    \"Apples\": {\"quantity\": 100, \"price\": 1.5},\n",
    "    \"Bananas\": {\"quantity\": 50, \"price\": 0.8},\n",
    "    \"Milk\": {\"quantity\": 20, \"price\": 2.0},\n",
    "    \"Bread\": {\"quantity\": 30, \"price\": 1.0},\n",
    "    \"Eggs\": {\"quantity\": 40, \"price\": 1.2}\n",
    "}"
   ]
  },
  {
   "cell_type": "code",
   "execution_count": 20,
   "id": "b7da7766-39c6-4ab4-a20c-0e550e0f64cd",
   "metadata": {},
   "outputs": [
    {
     "name": "stdout",
     "output_type": "stream",
     "text": [
      "Store Inventory:\n",
      "Apples - Quantity: 100, Price: $1.5 per unit\n",
      "Bananas - Quantity: 50, Price: $0.8 per unit\n",
      "Milk - Quantity: 20, Price: $2.0 per unit\n",
      "Bread - Quantity: 30, Price: $1.0 per unit\n",
      "Eggs - Quantity: 40, Price: $1.2 per unit\n"
     ]
    }
   ],
   "source": [
    "# Display available products and their details\n",
    "print(\"Store Inventory:\")\n",
    "for product, details in store_inventory.items():\n",
    "    print(f\"{product} - Quantity: {details['quantity']}, Price: ${details['price']} per unit\")"
   ]
  },
  {
   "cell_type": "code",
   "execution_count": 23,
   "id": "6ffcf83d-8bde-4fb7-b351-41b10e5e1fc5",
   "metadata": {},
   "outputs": [
    {
     "name": "stdin",
     "output_type": "stream",
     "text": [
      "Enter the product you want to buy (or 'done' to finish):  Apples\n",
      "How many units of Apples do you want to buy?  3\n"
     ]
    },
    {
     "name": "stdout",
     "output_type": "stream",
     "text": [
      "3 units of Apples added to your cart.\n"
     ]
    },
    {
     "name": "stdin",
     "output_type": "stream",
     "text": [
      "Enter the product you want to buy (or 'done' to finish):  Milk\n",
      "How many units of Milk do you want to buy?  6\n"
     ]
    },
    {
     "name": "stdout",
     "output_type": "stream",
     "text": [
      "6 units of Milk added to your cart.\n"
     ]
    },
    {
     "name": "stdin",
     "output_type": "stream",
     "text": [
      "Enter the product you want to buy (or 'done' to finish):  Bread\n",
      "How many units of Bread do you want to buy?  7\n"
     ]
    },
    {
     "name": "stdout",
     "output_type": "stream",
     "text": [
      "7 units of Bread added to your cart.\n"
     ]
    },
    {
     "name": "stdin",
     "output_type": "stream",
     "text": [
      "Enter the product you want to buy (or 'done' to finish):  Eggs\n",
      "How many units of Eggs do you want to buy?  10\n"
     ]
    },
    {
     "name": "stdout",
     "output_type": "stream",
     "text": [
      "10 units of Eggs added to your cart.\n"
     ]
    },
    {
     "name": "stdin",
     "output_type": "stream",
     "text": [
      "Enter the product you want to buy (or 'done' to finish):  done\n"
     ]
    }
   ],
   "source": [
    "# Second code snippet: Simulate a user making a purchase\n",
    "user_cart = {}\n",
    "while True:\n",
    "    user_input = input(\"Enter the product you want to buy (or 'done' to finish): \")\n",
    "    if user_input.lower() == 'done':\n",
    "        break\n",
    "    elif user_input in store_inventory and store_inventory[user_input][\"quantity\"] > 0:\n",
    "        quantity_to_buy = int(input(f\"How many units of {user_input} do you want to buy? \"))\n",
    "        if quantity_to_buy <= store_inventory[user_input][\"quantity\"]:\n",
    "            if user_input in user_cart:\n",
    "                user_cart[user_input] += quantity_to_buy\n",
    "            else:\n",
    "                user_cart[user_input] = quantity_to_buy\n",
    "            store_inventory[user_input][\"quantity\"] -= quantity_to_buy\n",
    "            print(f\"{quantity_to_buy} units of {user_input} added to your cart.\")\n",
    "        else:\n",
    "            print(f\"Sorry, only {store_inventory[user_input]['quantity']} units of {user_input} available.\")\n",
    "    else:\n",
    "        print(f\"Sorry, {user_input} is not available or out of stock.\")"
   ]
  },
  {
   "cell_type": "code",
   "execution_count": 24,
   "id": "c240a80c-18cc-442b-ac54-a6c31155481c",
   "metadata": {},
   "outputs": [
    {
     "name": "stdout",
     "output_type": "stream",
     "text": [
      "\n",
      "Your Shopping Cart:\n",
      "Apples - Quantity: 3, Price per unit: $1.5\n",
      "Milk - Quantity: 6, Price per unit: $2.0\n",
      "Bread - Quantity: 7, Price per unit: $1.0\n",
      "Eggs - Quantity: 10, Price per unit: $1.2\n",
      "\n",
      "Total Cost of Your Purchase: $35.5\n"
     ]
    }
   ],
   "source": [
    "total_cost = 0\n",
    "print(\"\\nYour Shopping Cart:\")\n",
    "for product, quantity in user_cart.items():\n",
    "    price_per_unit = store_inventory[product][\"price\"]\n",
    "    total_cost += quantity * price_per_unit\n",
    "    print(f\"{product} - Quantity: {quantity}, Price per unit: ${price_per_unit}\")\n",
    "\n",
    "print(f\"\\nTotal Cost of Your Purchase: ${total_cost}\")"
   ]
  },
  {
   "cell_type": "code",
   "execution_count": null,
   "id": "80fdf0a8-f76d-4a79-bd67-117f34d34dbd",
   "metadata": {},
   "outputs": [],
   "source": []
  },
  {
   "cell_type": "code",
   "execution_count": null,
   "id": "c8295837-d96a-4f7d-a987-ee63be0c4957",
   "metadata": {},
   "outputs": [],
   "source": []
  },
  {
   "cell_type": "code",
   "execution_count": 25,
   "id": "2d852879-127f-4a22-9e12-51776730a32b",
   "metadata": {},
   "outputs": [],
   "source": [
    "customers = {\n",
    "    \"Alice\": {\"account_number\": 1001, \"balance\": 5000},\n",
    "    \"Bob\": {\"account_number\": 1002, \"balance\": 3000},\n",
    "    \"Charlie\": {\"account_number\": 1003, \"balance\": 7000}\n",
    "}"
   ]
  },
  {
   "cell_type": "code",
   "execution_count": 26,
   "id": "077804b9-7f72-4249-a0b8-89adfe8a041b",
   "metadata": {},
   "outputs": [
    {
     "name": "stdout",
     "output_type": "stream",
     "text": [
      "Initial Account Details:\n",
      "Alice - Account Number: 1001, Balance: $5000\n",
      "Bob - Account Number: 1002, Balance: $3000\n",
      "Charlie - Account Number: 1003, Balance: $7000\n"
     ]
    }
   ],
   "source": [
    "# Display initial account details\n",
    "print(\"Initial Account Details:\")\n",
    "for customer, details in customers.items():\n",
    "    print(f\"{customer} - Account Number: {details['account_number']}, Balance: ${details['balance']}\")"
   ]
  },
  {
   "cell_type": "code",
   "execution_count": 27,
   "id": "8e19e9bd-5533-416b-a718-36899b976026",
   "metadata": {},
   "outputs": [
    {
     "name": "stdin",
     "output_type": "stream",
     "text": [
      "Alice, do you want to (D)eposit or (W)ithdraw?  D\n",
      "Enter the deposit amount: $ 900\n"
     ]
    },
    {
     "name": "stdout",
     "output_type": "stream",
     "text": [
      "Deposit of $900.0 successful. New balance: $5900.0\n"
     ]
    },
    {
     "name": "stdin",
     "output_type": "stream",
     "text": [
      "Bob, do you want to (D)eposit or (W)ithdraw?  D\n",
      "Enter the deposit amount: $ 0\n"
     ]
    },
    {
     "name": "stdout",
     "output_type": "stream",
     "text": [
      "Deposit of $0.0 successful. New balance: $3000.0\n"
     ]
    },
    {
     "name": "stdin",
     "output_type": "stream",
     "text": [
      "Charlie, do you want to (D)eposit or (W)ithdraw?  W\n",
      "Enter the withdrawal amount: $ 7000\n"
     ]
    },
    {
     "name": "stdout",
     "output_type": "stream",
     "text": [
      "Withdrawal of $7000.0 successful. New balance: $0.0\n"
     ]
    }
   ],
   "source": [
    "# Second code snippet: Perform transactions (deposits and withdrawals)\n",
    "for customer, details in customers.items():\n",
    "    transaction_type = input(f\"{customer}, do you want to (D)eposit or (W)ithdraw? \").upper()\n",
    "\n",
    "    if transaction_type == 'D':\n",
    "        amount = float(input(\"Enter the deposit amount: $\"))\n",
    "        details['balance'] += amount\n",
    "        print(f\"Deposit of ${amount} successful. New balance: ${details['balance']}\")\n",
    "    elif transaction_type == 'W':\n",
    "        amount = float(input(\"Enter the withdrawal amount: $\"))\n",
    "        if amount <= details['balance']:\n",
    "            details['balance'] -= amount\n",
    "            print(f\"Withdrawal of ${amount} successful. New balance: ${details['balance']}\")\n",
    "        else:\n",
    "            print(\"Insufficient funds. Withdrawal unsuccessful.\")\n",
    "    else:\n",
    "        print(\"Invalid transaction type. Please enter 'D' for deposit or 'W' for withdrawal.\")"
   ]
  },
  {
   "cell_type": "code",
   "execution_count": 28,
   "id": "a9b6ebe1-ff0b-4fb1-932b-dfb5b36b20b2",
   "metadata": {},
   "outputs": [
    {
     "name": "stdout",
     "output_type": "stream",
     "text": [
      "\n",
      "Updated Account Details:\n",
      "Alice - Account Number: 1001, Balance: $5900.0\n",
      "Bob - Account Number: 1002, Balance: $3000.0\n",
      "Charlie - Account Number: 1003, Balance: $0.0\n"
     ]
    }
   ],
   "source": [
    "# Display updated account details after transactions\n",
    "print(\"\\nUpdated Account Details:\")\n",
    "for customer, details in customers.items():\n",
    "    print(f\"{customer} - Account Number: {details['account_number']}, Balance: ${details['balance']}\")"
   ]
  },
  {
   "cell_type": "code",
   "execution_count": 29,
   "id": "059f3d47-8ca7-4572-a2e3-4d1e66e6a18d",
   "metadata": {},
   "outputs": [],
   "source": [
    "# Third code snippet: Create a class for bank accounts and use it to manage accounts\n",
    "class BankAccount:\n",
    "    def __init__(self, account_number, balance):\n",
    "        self.account_number = account_number\n",
    "        self.balance = balance\n",
    "\n",
    "    def deposit(self, amount):\n",
    "        self.balance += amount\n",
    "        return f\"Deposit of ${amount} successful. New balance: ${self.balance}\"\n",
    "\n",
    "    def withdraw(self, amount):\n",
    "        if amount <= self.balance:\n",
    "            self.balance -= amount\n",
    "            return f\"Withdrawal of ${amount} successful. New balance: ${self.balance}\"\n",
    "        else:\n",
    "            return \"Insufficient funds. Withdrawal unsuccessful.\"\n"
   ]
  },
  {
   "cell_type": "code",
   "execution_count": 30,
   "id": "bf868ce2-88ae-491e-a17d-16cbb300fa8b",
   "metadata": {},
   "outputs": [],
   "source": [
    "# Create BankAccount objects for each customer\n",
    "customer_accounts = {\n",
    "    \"Alice\": BankAccount(1001, 5000),\n",
    "    \"Bob\": BankAccount(1002, 3000),\n",
    "    \"Charlie\": BankAccount(1003, 7000)\n",
    "}\n"
   ]
  },
  {
   "cell_type": "code",
   "execution_count": 31,
   "id": "ff059ef4-ced2-48bd-88f9-b75c0b93454b",
   "metadata": {},
   "outputs": [
    {
     "name": "stdin",
     "output_type": "stream",
     "text": [
      "Alice, do you want to (D)eposit or (W)ithdraw?  D\n",
      "Enter the deposit amount: $ 0\n"
     ]
    },
    {
     "name": "stdout",
     "output_type": "stream",
     "text": [
      "Deposit of $0.0 successful. New balance: $5000.0\n"
     ]
    },
    {
     "name": "stdin",
     "output_type": "stream",
     "text": [
      "Bob, do you want to (D)eposit or (W)ithdraw?  D\n",
      "Enter the deposit amount: $ 0\n"
     ]
    },
    {
     "name": "stdout",
     "output_type": "stream",
     "text": [
      "Deposit of $0.0 successful. New balance: $3000.0\n"
     ]
    },
    {
     "name": "stdin",
     "output_type": "stream",
     "text": [
      "Charlie, do you want to (D)eposit or (W)ithdraw?  D\n",
      "Enter the deposit amount: $ 0\n"
     ]
    },
    {
     "name": "stdout",
     "output_type": "stream",
     "text": [
      "Deposit of $0.0 successful. New balance: $7000.0\n"
     ]
    }
   ],
   "source": [
    "# Perform transactions using the BankAccount class\n",
    "for customer, account in customer_accounts.items():\n",
    "    transaction_type = input(f\"{customer}, do you want to (D)eposit or (W)ithdraw? \").upper()\n",
    "\n",
    "    if transaction_type == 'D':\n",
    "        amount = float(input(\"Enter the deposit amount: $\"))\n",
    "        print(account.deposit(amount))\n",
    "    elif transaction_type == 'W':\n",
    "        amount = float(input(\"Enter the withdrawal amount: $\"))\n",
    "        print(account.withdraw(amount))\n",
    "    else:\n",
    "        print(\"Invalid transaction type. Please enter 'D' for deposit or 'W' for withdrawal.\")\n",
    "\n"
   ]
  },
  {
   "cell_type": "code",
   "execution_count": 32,
   "id": "e64e85de-f6e3-4f9a-9446-73f87bf4b64e",
   "metadata": {},
   "outputs": [
    {
     "name": "stdout",
     "output_type": "stream",
     "text": [
      "\n",
      "Updated Account Details (using BankAccount class):\n",
      "Alice - Account Number: 1001, Balance: $5000.0\n",
      "Bob - Account Number: 1002, Balance: $3000.0\n",
      "Charlie - Account Number: 1003, Balance: $7000.0\n"
     ]
    }
   ],
   "source": [
    "# Display updated account details after transactions using the BankAccount class\n",
    "print(\"\\nUpdated Account Details (using BankAccount class):\")\n",
    "for customer, account in customer_accounts.items():\n",
    "    print(f\"{customer} - Account Number: {account.account_number}, Balance: ${account.balance}\")"
   ]
  },
  {
   "cell_type": "code",
   "execution_count": null,
   "id": "8b7f5b12-ea5f-4ba5-9579-04e190efe18c",
   "metadata": {},
   "outputs": [],
   "source": []
  },
  {
   "cell_type": "code",
   "execution_count": null,
   "id": "3791136b-def2-4fbb-a176-936efbf966dc",
   "metadata": {},
   "outputs": [],
   "source": []
  },
  {
   "cell_type": "code",
   "execution_count": 33,
   "id": "278526ee-075e-445d-ab2b-81ab714908b5",
   "metadata": {},
   "outputs": [],
   "source": [
    "students = {\n",
    "    \"Alice\": {\"assignments\": [90, 85, 95], \"final_exam\": 88},\n",
    "    \"Bob\": {\"assignments\": [78, 92, 80], \"final_exam\": 75},\n",
    "    \"Charlie\": {\"assignments\": [88, 85, 90], \"final_exam\": 92}\n",
    "}\n"
   ]
  },
  {
   "cell_type": "code",
   "execution_count": 34,
   "id": "f451d90f-fa0c-44c7-bb1f-e224b8419d83",
   "metadata": {},
   "outputs": [
    {
     "name": "stdout",
     "output_type": "stream",
     "text": [
      "Student Details and Assignment Scores:\n",
      "Alice - Assignments: [90, 85, 95], Final Exam: 88\n",
      "Bob - Assignments: [78, 92, 80], Final Exam: 75\n",
      "Charlie - Assignments: [88, 85, 90], Final Exam: 92\n"
     ]
    }
   ],
   "source": [
    "# Display initial student details and assignment scores\n",
    "print(\"Student Details and Assignment Scores:\")\n",
    "for student, details in students.items():\n",
    "    print(f\"{student} - Assignments: {details['assignments']}, Final Exam: {details['final_exam']}\")"
   ]
  },
  {
   "cell_type": "code",
   "execution_count": 35,
   "id": "70c1781c-1e5b-465e-b467-f4e66e5750b8",
   "metadata": {},
   "outputs": [],
   "source": [
    "# Second code snippet: Calculate the average assignment score for each student\n",
    "for student, details in students.items():\n",
    "    assignment_avg = sum(details[\"assignments\"]) / len(details[\"assignments\"])\n",
    "    details[\"assignment_avg\"] = assignment_avg"
   ]
  },
  {
   "cell_type": "code",
   "execution_count": 36,
   "id": "2f47e03c-76ab-4a75-bb4f-fc9059af4859",
   "metadata": {},
   "outputs": [
    {
     "name": "stdout",
     "output_type": "stream",
     "text": [
      "\n",
      "Updated Student Details with Assignment Averages:\n",
      "Alice - Assignments Average: 90.00, Final Exam: 88\n",
      "Bob - Assignments Average: 83.33, Final Exam: 75\n",
      "Charlie - Assignments Average: 87.67, Final Exam: 92\n"
     ]
    }
   ],
   "source": [
    "# Display updated student details with average assignment scores\n",
    "print(\"\\nUpdated Student Details with Assignment Averages:\")\n",
    "for student, details in students.items():\n",
    "    print(f\"{student} - Assignments Average: {details['assignment_avg']:.2f}, Final Exam: {details['final_exam']}\")"
   ]
  },
  {
   "cell_type": "code",
   "execution_count": 37,
   "id": "09d4cf2f-5897-44ca-b731-e89c46762cdf",
   "metadata": {},
   "outputs": [],
   "source": [
    "# Third code snippet: Determine final grades based on assignment averages and final exam scores\n",
    "def calculate_final_grade(avg_score, final_exam_score):\n",
    "    final_score = 0.4 * avg_score + 0.6 * final_exam_score\n",
    "    if final_score >= 90:\n",
    "        return \"A\"\n",
    "    elif final_score >= 80:\n",
    "        return \"B\"\n",
    "    elif final_score >= 70:\n",
    "        return \"C\"\n",
    "    elif final_score >= 60:\n",
    "        return \"D\"\n",
    "    else:\n",
    "        return \"F\"\n",
    "\n"
   ]
  },
  {
   "cell_type": "code",
   "execution_count": 38,
   "id": "9a07c371-b4df-4716-8672-e44126275e8b",
   "metadata": {},
   "outputs": [
    {
     "name": "stdout",
     "output_type": "stream",
     "text": [
      "\n",
      "Final Grades:\n",
      "Alice - Final Grade: B\n",
      "Bob - Final Grade: C\n",
      "Charlie - Final Grade: A\n"
     ]
    }
   ],
   "source": [
    "# Calculate and display final grades for each student\n",
    "print(\"\\nFinal Grades:\")\n",
    "for student, details in students.items():\n",
    "    final_grade = calculate_final_grade(details[\"assignment_avg\"], details[\"final_exam\"])\n",
    "    print(f\"{student} - Final Grade: {final_grade}\")"
   ]
  },
  {
   "cell_type": "code",
   "execution_count": null,
   "id": "b36f89aa-f487-413b-a805-5cc6d35137a9",
   "metadata": {},
   "outputs": [],
   "source": []
  }
 ],
 "metadata": {
  "kernelspec": {
   "display_name": "Python 3 (ipykernel)",
   "language": "python",
   "name": "python3"
  },
  "language_info": {
   "codemirror_mode": {
    "name": "ipython",
    "version": 3
   },
   "file_extension": ".py",
   "mimetype": "text/x-python",
   "name": "python",
   "nbconvert_exporter": "python",
   "pygments_lexer": "ipython3",
   "version": "3.11.5"
  }
 },
 "nbformat": 4,
 "nbformat_minor": 5
}
