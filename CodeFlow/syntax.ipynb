{
  "cells": [
    {
      "cell_type": "code",
      "execution_count": null,
      "id": "4bcbf7bb-47e9-4afc-be81-c8e52f62614a",
      "metadata": {
        "id": "4bcbf7bb-47e9-4afc-be81-c8e52f62614a"
      },
      "outputs": [],
      "source": [
        "#syntax erro\n",
        "#missing quotes"
      ]
    },
    {
      "cell_type": "code",
      "execution_count": null,
      "id": "16c84b9a-016f-409f-937e-5dc4acffd216",
      "metadata": {
        "id": "16c84b9a-016f-409f-937e-5dc4acffd216",
        "outputId": "7824bd55-a19a-4ad0-86ea-3f120df72e04"
      },
      "outputs": [
        {
          "ename": "SyntaxError",
          "evalue": "invalid syntax. Perhaps you forgot a comma? (2497053111.py, line 1)",
          "output_type": "error",
          "traceback": [
            "\u001b[1;36m  Cell \u001b[1;32mIn[1], line 1\u001b[1;36m\u001b[0m\n\u001b[1;33m    print(hello world)\u001b[0m\n\u001b[1;37m          ^\u001b[0m\n\u001b[1;31mSyntaxError\u001b[0m\u001b[1;31m:\u001b[0m invalid syntax. Perhaps you forgot a comma?\n"
          ]
        }
      ],
      "source": [
        "print(hello world)"
      ]
    },
    {
      "cell_type": "code",
      "execution_count": null,
      "id": "cd11db70-e677-4f7e-b486-75d8da6de337",
      "metadata": {
        "id": "cd11db70-e677-4f7e-b486-75d8da6de337",
        "outputId": "5ef37f80-00b4-4dfb-ec42-92c4c2387b67"
      },
      "outputs": [
        {
          "name": "stdout",
          "output_type": "stream",
          "text": [
            "hello world\n"
          ]
        }
      ],
      "source": [
        "print(\"hello world\")"
      ]
    },
    {
      "cell_type": "code",
      "execution_count": null,
      "id": "80b2a9c3-2fa5-4f49-abee-f26f2f786f6e",
      "metadata": {
        "id": "80b2a9c3-2fa5-4f49-abee-f26f2f786f6e",
        "outputId": "356f21a5-2763-4d56-9c04-ed90dc88314d"
      },
      "outputs": [
        {
          "ename": "SyntaxError",
          "evalue": "expected ':' (1258028675.py, line 2)",
          "output_type": "error",
          "traceback": [
            "\u001b[1;36m  Cell \u001b[1;32mIn[3], line 2\u001b[1;36m\u001b[0m\n\u001b[1;33m    if (a == 15)\u001b[0m\n\u001b[1;37m                ^\u001b[0m\n\u001b[1;31mSyntaxError\u001b[0m\u001b[1;31m:\u001b[0m expected ':'\n"
          ]
        }
      ],
      "source": [
        "a = 15\n",
        "if (a == 15)\n",
        "    print(a)"
      ]
    },
    {
      "cell_type": "code",
      "execution_count": null,
      "id": "3e63c586-e68b-4d60-bfab-9ee205383c73",
      "metadata": {
        "id": "3e63c586-e68b-4d60-bfab-9ee205383c73",
        "outputId": "298d6ed3-0da1-4ff4-a3c6-8145b8b16a74"
      },
      "outputs": [
        {
          "name": "stdout",
          "output_type": "stream",
          "text": [
            "15\n"
          ]
        }
      ],
      "source": [
        "a = 15\n",
        "if a == 15:\n",
        "    print(a)"
      ]
    },
    {
      "cell_type": "code",
      "execution_count": null,
      "id": "b580eab3-256d-4eb5-ba5f-b8f70a770401",
      "metadata": {
        "scrolled": true,
        "id": "b580eab3-256d-4eb5-ba5f-b8f70a770401",
        "outputId": "75f9fdbb-44e8-40bc-b9ab-ae05d280ebc4"
      },
      "outputs": [
        {
          "ename": "SyntaxError",
          "evalue": "invalid syntax. Perhaps you forgot a comma? (4144164594.py, line 3)",
          "output_type": "error",
          "traceback": [
            "\u001b[1;36m  Cell \u001b[1;32mIn[10], line 3\u001b[1;36m\u001b[0m\n\u001b[1;33m    'Ram': 32\u001b[0m\n\u001b[1;37m           ^\u001b[0m\n\u001b[1;31mSyntaxError\u001b[0m\u001b[1;31m:\u001b[0m invalid syntax. Perhaps you forgot a comma?\n"
          ]
        }
      ],
      "source": [
        "ages ={\n",
        "    'Sita': 28,\n",
        "    'Ram': 32\n",
        "    'Sam': 45\n",
        "}\n",
        "print(f'The age of Bob is {ages[\"Ram\"]} years.'"
      ]
    },
    {
      "cell_type": "code",
      "execution_count": null,
      "id": "408cb6ed-0f2c-4813-b333-56f244e431fb",
      "metadata": {
        "id": "408cb6ed-0f2c-4813-b333-56f244e431fb",
        "outputId": "a10bb936-6d0f-4481-83ac-bccf776576a1"
      },
      "outputs": [
        {
          "name": "stdout",
          "output_type": "stream",
          "text": [
            "The age of Bob is 32 years.\n"
          ]
        }
      ],
      "source": [
        "ages ={\n",
        "    'Sita': 28,\n",
        "    'Ram': 32,\n",
        "    'Sam': 45\n",
        "}\n",
        "print(f'The age of Bob is {ages[\"Ram\"]} years.')"
      ]
    },
    {
      "cell_type": "code",
      "execution_count": null,
      "id": "27bdc573-74e1-4859-ae98-83a3500ff4af",
      "metadata": {
        "id": "27bdc573-74e1-4859-ae98-83a3500ff4af",
        "outputId": "342f8a3a-d542-4ef9-b627-96be4b92f188"
      },
      "outputs": [
        {
          "ename": "SyntaxError",
          "evalue": "expected ':' (4051748618.py, line 1)",
          "output_type": "error",
          "traceback": [
            "\u001b[1;36m  Cell \u001b[1;32mIn[2], line 1\u001b[1;36m\u001b[0m\n\u001b[1;33m    def get_shop()\u001b[0m\n\u001b[1;37m                  ^\u001b[0m\n\u001b[1;31mSyntaxError\u001b[0m\u001b[1;31m:\u001b[0m expected ':'\n"
          ]
        }
      ],
      "source": [
        "def get_shop()\n",
        "    return [\n",
        "        \"Shop 1\",\n",
        "        \"Shop 2\",\n",
        "        \"Shop 3\"\n",
        "    ]\n",
        "# Example of calling the function\n",
        "result = get_shop()\n",
        "print(result)"
      ]
    },
    {
      "cell_type": "code",
      "execution_count": null,
      "id": "b3b826ba-3758-471e-80e6-93a49d1b6e98",
      "metadata": {
        "id": "b3b826ba-3758-471e-80e6-93a49d1b6e98",
        "outputId": "3b419772-571f-4c16-d765-acfb1b6b339e"
      },
      "outputs": [
        {
          "name": "stdout",
          "output_type": "stream",
          "text": [
            "['Shop 1', 'Shop 2', 'Shop 3']\n"
          ]
        }
      ],
      "source": [
        "def get_shop():\n",
        "    return [\n",
        "        \"Shop 1\",\n",
        "        \"Shop 2\",\n",
        "        \"Shop 3\"\n",
        "    ]\n",
        "# Example of calling the function\n",
        "result = get_shop()\n",
        "print(result)"
      ]
    },
    {
      "cell_type": "code",
      "execution_count": null,
      "id": "3a18e6c6-189b-4635-bf54-bb9b42741221",
      "metadata": {
        "id": "3a18e6c6-189b-4635-bf54-bb9b42741221",
        "outputId": "7dfe5313-636e-4ebe-f07a-9866ea34ff67"
      },
      "outputs": [
        {
          "ename": "SyntaxError",
          "evalue": "'(' was never closed (3871604073.py, line 1)",
          "output_type": "error",
          "traceback": [
            "\u001b[1;36m  Cell \u001b[1;32mIn[8], line 1\u001b[1;36m\u001b[0m\n\u001b[1;33m    numbers = (\u001b[0m\n\u001b[1;37m              ^\u001b[0m\n\u001b[1;31mSyntaxError\u001b[0m\u001b[1;31m:\u001b[0m '(' was never closed\n"
          ]
        }
      ],
      "source": [
        "numbers = (\n",
        "    1,\n",
        "    2,\n",
        "    3\n",
        "for num in numbers:\n",
        "    print(num)"
      ]
    },
    {
      "cell_type": "code",
      "execution_count": null,
      "id": "65ddb3fc-48f6-48dc-acc6-5d538d9d2189",
      "metadata": {
        "id": "65ddb3fc-48f6-48dc-acc6-5d538d9d2189",
        "outputId": "ec1ef34f-059a-474e-f690-9c1d5ad4a34d"
      },
      "outputs": [
        {
          "name": "stdout",
          "output_type": "stream",
          "text": [
            "1\n",
            "2\n",
            "3\n"
          ]
        }
      ],
      "source": [
        "numbers = (\n",
        "    1,\n",
        "    2,\n",
        "    3\n",
        ")\n",
        "\n",
        "# Example of using the tuple\n",
        "for num in numbers:\n",
        "    print(num)"
      ]
    },
    {
      "cell_type": "code",
      "execution_count": null,
      "id": "f6c060dc-851e-46c7-a3ac-bb3df3e8d105",
      "metadata": {
        "id": "f6c060dc-851e-46c7-a3ac-bb3df3e8d105",
        "outputId": "694b1a3d-7d2f-4713-fba0-4d440ac3e028"
      },
      "outputs": [
        {
          "ename": "SyntaxError",
          "evalue": "expected ':' (768942038.py, line 3)",
          "output_type": "error",
          "traceback": [
            "\u001b[1;36m  Cell \u001b[1;32mIn[15], line 3\u001b[1;36m\u001b[0m\n\u001b[1;33m    if name == \"Admin\"\u001b[0m\n\u001b[1;37m                      ^\u001b[0m\n\u001b[1;31mSyntaxError\u001b[0m\u001b[1;31m:\u001b[0m expected ':'\n"
          ]
        }
      ],
      "source": [
        "name = \"Admin\"\n",
        "if name == \"Admin\"\n",
        "    print(\"Admin will give access.\")\n",
        "else:\n",
        "    print(\"Admin will not give access.\")"
      ]
    },
    {
      "cell_type": "code",
      "execution_count": null,
      "id": "f20fa0bf-8ec7-4c6b-876b-b688c01c2a08",
      "metadata": {
        "id": "f20fa0bf-8ec7-4c6b-876b-b688c01c2a08",
        "outputId": "08aa1b45-9538-4810-8a7c-cb7dba5d47bc"
      },
      "outputs": [
        {
          "name": "stdout",
          "output_type": "stream",
          "text": [
            "Admin will give access.\n"
          ]
        }
      ],
      "source": [
        "# Corrected code\n",
        "name = \"Admin\"\n",
        "\n",
        "if name == \"Admin\":\n",
        "    print(\"Admin will give access.\")\n",
        "else:\n",
        "    print(\"Admin will not give access.\")\n"
      ]
    },
    {
      "cell_type": "code",
      "execution_count": null,
      "id": "3fa7ddd8-58c7-44f5-b956-585d4639b292",
      "metadata": {
        "id": "3fa7ddd8-58c7-44f5-b956-585d4639b292",
        "outputId": "5fc20df3-b618-460c-c073-94af36ffef0c"
      },
      "outputs": [
        {
          "ename": "SyntaxError",
          "evalue": "invalid syntax. Maybe you meant '==' or ':=' instead of '='? (412189486.py, line 3)",
          "output_type": "error",
          "traceback": [
            "\u001b[1;36m  Cell \u001b[1;32mIn[17], line 3\u001b[1;36m\u001b[0m\n\u001b[1;33m    if name = \"Admin\":\u001b[0m\n\u001b[1;37m       ^\u001b[0m\n\u001b[1;31mSyntaxError\u001b[0m\u001b[1;31m:\u001b[0m invalid syntax. Maybe you meant '==' or ':=' instead of '='?\n"
          ]
        }
      ],
      "source": [
        "name = \"Admin\"\n",
        "\n",
        "if name = \"Admin\":\n",
        "    print(\"Admin will give access.\")\n",
        "else:\n",
        "    print(\"Admin will not give access.\")"
      ]
    },
    {
      "cell_type": "code",
      "execution_count": null,
      "id": "2172f854-29fe-4d51-8e3f-7b5bf05b3a6b",
      "metadata": {
        "id": "2172f854-29fe-4d51-8e3f-7b5bf05b3a6b",
        "outputId": "60c8bac3-907b-4672-b7ca-fb05d73d82be"
      },
      "outputs": [
        {
          "name": "stdout",
          "output_type": "stream",
          "text": [
            "Admin will give access.\n"
          ]
        }
      ],
      "source": [
        "# Corrected code\n",
        "name = \"Admin\"\n",
        "\n",
        "if name == \"Admin\":\n",
        "    print(\"Admin will give access.\")\n",
        "else:\n",
        "    print(\"Admin will not give access.\")\n"
      ]
    },
    {
      "cell_type": "code",
      "execution_count": null,
      "id": "52680766-b889-4ddd-97cd-a767f251be95",
      "metadata": {
        "id": "52680766-b889-4ddd-97cd-a767f251be95",
        "outputId": "57796bef-cfe4-4838-dc10-4f07e8659d61"
      },
      "outputs": [
        {
          "ename": "SyntaxError",
          "evalue": "invalid syntax (1742326814.py, line 5)",
          "output_type": "error",
          "traceback": [
            "\u001b[1;36m  Cell \u001b[1;32mIn[19], line 5\u001b[1;36m\u001b[0m\n\u001b[1;33m    iif user_role == \"Admin\":\u001b[0m\n\u001b[1;37m        ^\u001b[0m\n\u001b[1;31mSyntaxError\u001b[0m\u001b[1;31m:\u001b[0m invalid syntax\n"
          ]
        }
      ],
      "source": [
        "#Intentional syntax error: Misspelled 'if' and 'else' keywords\n",
        "user_role = \"Admin\"\n",
        "\n",
        "# Misspelled 'if' as 'iif'\n",
        "iif user_role == \"Admin\":\n",
        "    print(\"Access granted. You are an administrator.\")\n",
        "elsse:\n",
        "    print(\"Access denied. You are not an administrator.\")"
      ]
    },
    {
      "cell_type": "code",
      "execution_count": null,
      "id": "0dc9d760-c5f0-4b75-8441-678e423977e5",
      "metadata": {
        "id": "0dc9d760-c5f0-4b75-8441-678e423977e5",
        "outputId": "91e3b828-3382-42e5-8964-9e0071340743"
      },
      "outputs": [
        {
          "name": "stdout",
          "output_type": "stream",
          "text": [
            "Access granted. You are an administrator.\n"
          ]
        }
      ],
      "source": [
        "# Corrected code\n",
        "user_role = \"Admin\"\n",
        "\n",
        "# Using correct 'if' and 'else' keywords\n",
        "if user_role == \"Admin\":\n",
        "    print(\"Access granted. You are an administrator.\")\n",
        "else:\n",
        "    print(\"Access denied. You are not an administrator.\")\n"
      ]
    },
    {
      "cell_type": "code",
      "execution_count": null,
      "id": "e2f6a8cb-5583-4535-adca-8789fca6e786",
      "metadata": {
        "id": "e2f6a8cb-5583-4535-adca-8789fca6e786",
        "outputId": "2e8fd231-070e-46e4-cef5-b890c5ed4598"
      },
      "outputs": [
        {
          "name": "stdout",
          "output_type": "stream",
          "text": [
            "Access granted. You are an administrator.\n"
          ]
        }
      ],
      "source": [
        "# Corrected code\n",
        "user_role = \"Admin\"\n",
        "\n",
        "# Using correct 'if' and 'else' keywords\n",
        "if user_role == \"Admin\":\n",
        "    print(\"Access granted. You are an administrator.\")\n",
        "else:\n",
        "    print(\"Access denied. You are not an administrator.\")\n"
      ]
    },
    {
      "cell_type": "code",
      "execution_count": null,
      "id": "47bf9d93-999d-4a10-9c98-0d7ea41e8e74",
      "metadata": {
        "id": "47bf9d93-999d-4a10-9c98-0d7ea41e8e74",
        "outputId": "de877f8c-ebde-4c24-e7d6-f775a8b8614b"
      },
      "outputs": [
        {
          "name": "stdout",
          "output_type": "stream",
          "text": [
            "Access granted. You are an administrator.\n"
          ]
        }
      ],
      "source": [
        "# Corrected code\n",
        "user_role = \"Admin\"\n",
        "\n",
        "# Using correct 'if' and 'else' keywords\n",
        "if user_role == \"Admin\":\n",
        "    print(\"Access granted. You are an administrator.\")\n",
        "else:\n",
        "    print(\"Access denied. You are not an administrator.\")\n",
        "    # Additional code within the 'else' block\n",
        "    print(\"This line is reachable within the 'else' block.\")\n"
      ]
    },
    {
      "cell_type": "code",
      "execution_count": null,
      "id": "5907c348-5074-437e-a7a5-5ef45cc6e592",
      "metadata": {
        "id": "5907c348-5074-437e-a7a5-5ef45cc6e592",
        "outputId": "769c6f64-9e58-4737-8746-bdf27e354fe6"
      },
      "outputs": [
        {
          "ename": "SyntaxError",
          "evalue": "'[' was never closed (456331463.py, line 5)",
          "output_type": "error",
          "traceback": [
            "\u001b[1;36m  Cell \u001b[1;32mIn[28], line 5\u001b[1;36m\u001b[0m\n\u001b[1;33m    squares = [n**2 for n in numbers\u001b[0m\n\u001b[1;37m              ^\u001b[0m\n\u001b[1;31mSyntaxError\u001b[0m\u001b[1;31m:\u001b[0m '[' was never closed\n"
          ]
        }
      ],
      "source": [
        "# Generating squares for numbers 1 to 5\n",
        "numbers = [1, 2, 3, 4, 5]\n",
        "\n",
        "# List comprehension to calculate squares\n",
        "squares = [n**2 for n in numbers\n",
        "\n",
        "# Printing the result\n",
        "print(squares)\n"
      ]
    },
    {
      "cell_type": "code",
      "execution_count": null,
      "id": "1801b36b-0016-48cc-bcfe-6b382052e1c7",
      "metadata": {
        "id": "1801b36b-0016-48cc-bcfe-6b382052e1c7",
        "outputId": "b4a1ba32-5454-4765-9268-585b097545df"
      },
      "outputs": [
        {
          "name": "stdout",
          "output_type": "stream",
          "text": [
            "[1, 4, 9, 16, 25]\n"
          ]
        }
      ],
      "source": [
        "# Generating squares for numbers 1 to 5\n",
        "numbers = [1, 2, 3, 4, 5]\n",
        "\n",
        "# List comprehension to calculate squares\n",
        "squares = [n**2 for n in numbers]\n",
        "\n",
        "# Printing the result\n",
        "print(squares)\n"
      ]
    },
    {
      "cell_type": "code",
      "execution_count": null,
      "id": "95258594-9a0f-4809-87ff-90ddb4723732",
      "metadata": {
        "id": "95258594-9a0f-4809-87ff-90ddb4723732",
        "outputId": "5a9127d6-9e72-4ba4-bbec-f93eb53d42df"
      },
      "outputs": [
        {
          "name": "stdout",
          "output_type": "stream",
          "text": [
            "Hello, Alice!\n"
          ]
        }
      ],
      "source": [
        "def greet(name):\n",
        "      print(f\"Hello, {name}!\")\n",
        "\n",
        "# Attempting to call the function\n",
        "greet(\"Alice\")"
      ]
    },
    {
      "cell_type": "code",
      "execution_count": null,
      "id": "82582c98-c4d7-496b-939a-038100f0039c",
      "metadata": {
        "id": "82582c98-c4d7-496b-939a-038100f0039c",
        "outputId": "e485db42-6f57-4016-995e-8f96e6610c6b"
      },
      "outputs": [
        {
          "ename": "SyntaxError",
          "evalue": "'break' outside loop (1693631405.py, line 7)",
          "output_type": "error",
          "traceback": [
            "\u001b[1;36m  Cell \u001b[1;32mIn[35], line 7\u001b[1;36m\u001b[0m\n\u001b[1;33m    break  # Intentional syntax error\u001b[0m\n\u001b[1;37m    ^\u001b[0m\n\u001b[1;31mSyntaxError\u001b[0m\u001b[1;31m:\u001b[0m 'break' outside loop\n"
          ]
        }
      ],
      "source": [
        "# Intentional syntax errors: Using 'break' and 'continue' outside of loops\n",
        "persons = ['alice', 'bob', 'charlie']\n",
        "\n",
        "# Using 'break' outside of a loop\n",
        "if 'bob' in persons:\n",
        "    print('Bob found')\n",
        "    break  # Intentional syntax error\n",
        "\n",
        "# Using 'continue' outside of a loop\n",
        "if 'bob' in persons:\n",
        "    print('Bob found')\n",
        "    continue  # Intentional syntax error\n"
      ]
    },
    {
      "cell_type": "code",
      "execution_count": null,
      "id": "cf68736e-e8a4-46c0-95b6-586f885fe8f0",
      "metadata": {
        "id": "cf68736e-e8a4-46c0-95b6-586f885fe8f0",
        "outputId": "3fe14852-7abf-4ab4-a940-2d243e240011"
      },
      "outputs": [
        {
          "name": "stdout",
          "output_type": "stream",
          "text": [
            "Bob found\n",
            "Processing alice\n",
            "Bob found\n",
            "Processing charlie\n"
          ]
        }
      ],
      "source": [
        "# Corrected code: Using 'break' and 'continue' within loops\n",
        "persons = ['alice', 'bob', 'charlie']\n",
        "\n",
        "# Using 'break' within a loop\n",
        "for person in persons:\n",
        "    if person == 'bob':\n",
        "        print('Bob found')\n",
        "        break  # Exiting the loop when 'bob' is found\n",
        "\n",
        "# Using 'continue' within a loop\n",
        "for person in persons:\n",
        "    if person == 'bob':\n",
        "        print('Bob found')\n",
        "        continue  # Skipping to the next iteration when 'bob' is found\n",
        "    print(f'Processing {person}')\n"
      ]
    },
    {
      "cell_type": "code",
      "execution_count": null,
      "id": "76145659-f52d-455e-af91-53183ef97fe4",
      "metadata": {
        "id": "76145659-f52d-455e-af91-53183ef97fe4",
        "outputId": "97a43a4e-949e-4fff-8ed6-12af858d7d33"
      },
      "outputs": [
        {
          "ename": "SyntaxError",
          "evalue": "unterminated string literal (detected at line 2) (2814686206.py, line 2)",
          "output_type": "error",
          "traceback": [
            "\u001b[1;36m  Cell \u001b[1;32mIn[38], line 2\u001b[1;36m\u001b[0m\n\u001b[1;33m    ages = {'pam;=24}\u001b[0m\n\u001b[1;37m            ^\u001b[0m\n\u001b[1;31mSyntaxError\u001b[0m\u001b[1;31m:\u001b[0m unterminated string literal (detected at line 2)\n"
          ]
        }
      ],
      "source": [
        "\n",
        "ages = {'pam'; 24}\n",
        "\n",
        "print(ages['pam'])\n",
        "\n",
        "\n"
      ]
    },
    {
      "cell_type": "code",
      "execution_count": null,
      "id": "ae664306-bb6a-46dd-8d65-1a1a46eb57e5",
      "metadata": {
        "id": "ae664306-bb6a-46dd-8d65-1a1a46eb57e5",
        "outputId": "1a9958b6-db0f-40b9-f2ef-4c937060f6ad"
      },
      "outputs": [
        {
          "name": "stdout",
          "output_type": "stream",
          "text": [
            "24\n"
          ]
        }
      ],
      "source": [
        "# Corrected code\n",
        "ages = {'pam': 24}\n",
        "\n",
        "# Output\n",
        "print(ages['pam'])\n"
      ]
    },
    {
      "cell_type": "code",
      "execution_count": null,
      "id": "1609d6a1-5f2b-4488-9d61-bcc348c97a4b",
      "metadata": {
        "id": "1609d6a1-5f2b-4488-9d61-bcc348c97a4b",
        "outputId": "f947b78d-700c-4226-da69-37f4bba07e2a"
      },
      "outputs": [
        {
          "ename": "IndentationError",
          "evalue": "unindent does not match any outer indentation level (<tokenize>, line 7)",
          "output_type": "error",
          "traceback": [
            "\u001b[1;36m  File \u001b[1;32m<tokenize>:7\u001b[1;36m\u001b[0m\n\u001b[1;33m    print('Done counting and summing')  # Intentional indentation error\u001b[0m\n\u001b[1;37m    ^\u001b[0m\n\u001b[1;31mIndentationError\u001b[0m\u001b[1;31m:\u001b[0m unindent does not match any outer indentation level\n"
          ]
        }
      ],
      "source": [
        "def count_and_sum():\n",
        "  total_sum = 0\n",
        "  for i in range(5):\n",
        "      total_sum += i\n",
        "      print(f\"Current number: {i}, Running sum: {total_sum}\")\n",
        "\n",
        "    print('Done counting and summing')  # Intentional indentation error\n",
        "\n",
        "count_and_sum()\n"
      ]
    },
    {
      "cell_type": "code",
      "execution_count": null,
      "id": "6aeaedf9-8c79-46b6-a3c7-75fe152cc58f",
      "metadata": {
        "id": "6aeaedf9-8c79-46b6-a3c7-75fe152cc58f",
        "outputId": "36f6bfa8-4e7c-46bc-8b47-c5218a35be00"
      },
      "outputs": [
        {
          "name": "stdout",
          "output_type": "stream",
          "text": [
            "Current number: 0, Running sum: 0\n",
            "Current number: 1, Running sum: 1\n",
            "Current number: 2, Running sum: 3\n",
            "Current number: 3, Running sum: 6\n",
            "Current number: 4, Running sum: 10\n",
            "Done counting and summing\n"
          ]
        }
      ],
      "source": [
        "def count_and_sum():\n",
        "  total_sum = 0\n",
        "  for i in range(5):\n",
        "    total_sum += i\n",
        "    print(f\"Current number: {i}, Running sum: {total_sum}\")\n",
        "\n",
        "  print('Done counting and summing')\n",
        "\n",
        "count_and_sum()\n"
      ]
    },
    {
      "cell_type": "code",
      "execution_count": null,
      "id": "11d3f13a-b986-4dc9-af52-70682f30f4ae",
      "metadata": {
        "id": "11d3f13a-b986-4dc9-af52-70682f30f4ae",
        "outputId": "b2af706e-bc13-4d9a-ce2e-7bec594e4824"
      },
      "outputs": [
        {
          "ename": "SyntaxError",
          "evalue": "unterminated string literal (detected at line 7) (2784473474.py, line 7)",
          "output_type": "error",
          "traceback": [
            "\u001b[1;36m  Cell \u001b[1;32mIn[1], line 7\u001b[1;36m\u001b[0m\n\u001b[1;33m    sub = subjects.get('Hindi','Student doesn't exist')\u001b[0m\n\u001b[1;37m                                                     ^\u001b[0m\n\u001b[1;31mSyntaxError\u001b[0m\u001b[1;31m:\u001b[0m unterminated string literal (detected at line 7)\n"
          ]
        }
      ],
      "source": [
        "subjects = {'Keera': 'Maths',\n",
        "            'karthik': 'Biology',\n",
        "            'naveen': 'Science',\n",
        "            'Vijay': 'Hindi'}\n",
        "# Storing the subject of student\n",
        "# that doesn't exist\n",
        "sub = subjects.get('Hindi','Student doesn't exist')\n",
        "\n",
        "print(sub)"
      ]
    },
    {
      "cell_type": "code",
      "execution_count": null,
      "id": "b04c3db0-b717-4bc3-9e73-b0038a7c0dff",
      "metadata": {
        "id": "b04c3db0-b717-4bc3-9e73-b0038a7c0dff",
        "outputId": "3caec95e-48dd-451d-911c-b891ef75cb85"
      },
      "outputs": [
        {
          "name": "stdout",
          "output_type": "stream",
          "text": [
            "Hindi\n"
          ]
        }
      ],
      "source": [
        "subjects = {'Keera': 'Maths',\n",
        "            'karthik': 'Biology',\n",
        "            'naveen': 'Science',\n",
        "            'Vijay': 'Hindi'}\n",
        "# Storing the subject of student\n",
        "# that doesn't exist\n",
        "sub = subjects.get('Vijay',\"Student doesn't exist\")\n",
        "\n",
        "print(sub)"
      ]
    },
    {
      "cell_type": "code",
      "execution_count": null,
      "id": "fcea66c0-8e2b-4da7-9960-070131cc8170",
      "metadata": {
        "id": "fcea66c0-8e2b-4da7-9960-070131cc8170"
      },
      "outputs": [],
      "source": []
    }
  ],
  "metadata": {
    "kernelspec": {
      "display_name": "Python 3 (ipykernel)",
      "language": "python",
      "name": "python3"
    },
    "language_info": {
      "codemirror_mode": {
        "name": "ipython",
        "version": 3
      },
      "file_extension": ".py",
      "mimetype": "text/x-python",
      "name": "python",
      "nbconvert_exporter": "python",
      "pygments_lexer": "ipython3",
      "version": "3.11.0"
    },
    "colab": {
      "provenance": []
    }
  },
  "nbformat": 4,
  "nbformat_minor": 5
}