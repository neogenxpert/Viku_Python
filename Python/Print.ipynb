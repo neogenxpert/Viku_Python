{
 "cells": [
  {
   "cell_type": "code",
   "execution_count": 2,
   "id": "aa492f6f-ab4c-45fc-9823-75755dd814bf",
   "metadata": {},
   "outputs": [
    {
     "name": "stdout",
     "output_type": "stream",
     "text": [
      "Life of ViKu\n"
     ]
    }
   ],
   "source": [
    "print(\"Life of ViKu\")"
   ]
  },
  {
   "cell_type": "code",
   "execution_count": null,
   "id": "18cd5ac3-1473-4fad-ac74-ac122df93069",
   "metadata": {},
   "outputs": [],
   "source": []
  }
 ],
 "metadata": {
  "kernelspec": {
   "display_name": "Python 3 (ipykernel)",
   "language": "python",
   "name": "python3"
  },
  "language_info": {
   "codemirror_mode": {
    "name": "ipython",
    "version": 3
   },
   "file_extension": ".py",
   "mimetype": "text/x-python",
   "name": "python",
   "nbconvert_exporter": "python",
   "pygments_lexer": "ipython3",
   "version": "3.12.7"
  }
 },
 "nbformat": 4,
 "nbformat_minor": 5
}
