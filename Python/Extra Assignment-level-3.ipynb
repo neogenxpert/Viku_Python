{
 "cells": [
  {
   "cell_type": "code",
   "execution_count": 1,
   "id": "03916de0-7417-4264-885d-560d6ccc40ab",
   "metadata": {},
   "outputs": [
    {
     "name": "stdout",
     "output_type": "stream",
     "text": [
      "value: 10\n",
      "Correct\n"
     ]
    }
   ],
   "source": [
    "i=10\n",
    "print(\"value:\",i)\n",
    "if i == 10:\n",
    "    print(\"Correct\")"
   ]
  },
  {
   "cell_type": "code",
   "execution_count": 2,
   "id": "88f310de-3e14-4d3f-b463-a5cc1785e829",
   "metadata": {},
   "outputs": [
    {
     "name": "stdin",
     "output_type": "stream",
     "text": [
      "Enter the Password : Admin@123\n"
     ]
    },
    {
     "name": "stdout",
     "output_type": "stream",
     "text": [
      "Retry your password\n"
     ]
    }
   ],
   "source": [
    "\n",
    "Pass=input(\"Enter the Password :\")\n",
    "if Pass == 'HOPE@123':\n",
    "    print(\"Your password is correct\")\n",
    "else:\n",
    "    print(\"Retry your password\")"
   ]
  },
  {
   "cell_type": "code",
   "execution_count": 7,
   "id": "4d2a19d1-e538-4020-a6aa-1f182636b9f5",
   "metadata": {},
   "outputs": [
    {
     "name": "stdin",
     "output_type": "stream",
     "text": [
      "Age: 45\n"
     ]
    },
    {
     "name": "stdout",
     "output_type": "stream",
     "text": [
      "Senior Citizen\n"
     ]
    }
   ],
   "source": [
    "age=int(input(\"Age:\"))\n",
    "\n",
    "if (age<18):\n",
    "    print(\"Child\")\n",
    "elif (age==18 and age<=40):\n",
    "    print(\"Adult\")\n",
    "elif (age==41 and age<=59):\n",
    "    print(\"Citizen\")\n",
    "else:\n",
    "    print(\"Senior Citizen\")"
   ]
  },
  {
   "cell_type": "code",
   "execution_count": 10,
   "id": "5eefbc3b-e339-4937-8a3f-f0e84cfaf4a3",
   "metadata": {},
   "outputs": [
    {
     "name": "stdin",
     "output_type": "stream",
     "text": [
      "Enter any Number: 56\n"
     ]
    },
    {
     "name": "stdout",
     "output_type": "stream",
     "text": [
      "Positive\n"
     ]
    }
   ],
   "source": [
    "num=float(input(\"Enter any Number:\"))\n",
    "\n",
    "if num > 0:\n",
    "    print(\"Positive\")\n",
    "\n",
    "elif num < 0:\n",
    "    print(\"Negative\")\n",
    "\n",
    "else:\n",
    "    print(\"Zero\")"
   ]
  },
  {
   "cell_type": "code",
   "execution_count": 22,
   "id": "875cc86a-735f-47b2-8b6d-7a7ad331e5c3",
   "metadata": {},
   "outputs": [
    {
     "name": "stdin",
     "output_type": "stream",
     "text": [
      "Enter the Number to check: 67\n"
     ]
    },
    {
     "name": "stdout",
     "output_type": "stream",
     "text": [
      "No is not Divisible by 5\n"
     ]
    }
   ],
   "source": [
    "num=float(input(\"Enter the Number to check:\"))\n",
    "\n",
    "if (num%5 != 0):\n",
    "    print(\"No is not Divisible by 5\")\n",
    "else:    \n",
    "    print(\"No is Divisible by 5\")"
   ]
  },
  {
   "cell_type": "code",
   "execution_count": null,
   "id": "cc1d183e-a84e-4834-b253-5a2c5e1ce9ad",
   "metadata": {},
   "outputs": [],
   "source": []
  }
 ],
 "metadata": {
  "kernelspec": {
   "display_name": "Python 3 (ipykernel)",
   "language": "python",
   "name": "python3"
  },
  "language_info": {
   "codemirror_mode": {
    "name": "ipython",
    "version": 3
   },
   "file_extension": ".py",
   "mimetype": "text/x-python",
   "name": "python",
   "nbconvert_exporter": "python",
   "pygments_lexer": "ipython3",
   "version": "3.12.7"
  }
 },
 "nbformat": 4,
 "nbformat_minor": 5
}
