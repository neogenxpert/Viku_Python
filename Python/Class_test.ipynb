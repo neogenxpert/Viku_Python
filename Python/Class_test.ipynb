{
 "cells": [
  {
   "cell_type": "code",
   "execution_count": 10,
   "id": "4b058371-f9a5-45e9-830f-daefa30a5ead",
   "metadata": {},
   "outputs": [],
   "source": [
    "from classcollection import classcollection"
   ]
  },
  {
   "cell_type": "code",
   "execution_count": 11,
   "id": "bf5a9d55-aa3b-4325-b78a-bbdf2a036c78",
   "metadata": {},
   "outputs": [
    {
     "name": "stdin",
     "output_type": "stream",
     "text": [
      "Height: 6\n",
      "Breadth: 7\n"
     ]
    },
    {
     "name": "stdout",
     "output_type": "stream",
     "text": [
      "Area Formula: (Height*Breadth)/2\n",
      "Area of Triangle: 21.0\n"
     ]
    },
    {
     "name": "stdin",
     "output_type": "stream",
     "text": [
      "Height1: 7\n",
      "Height2: 9\n",
      "Breadth: 200\n"
     ]
    },
    {
     "name": "stdout",
     "output_type": "stream",
     "text": [
      "Perimeter Formula: Height1+Height2+Breadth\n",
      "Perimeter of Triangle: 216\n"
     ]
    }
   ],
   "source": [
    "classcollection.triangle()"
   ]
  },
  {
   "cell_type": "code",
   "execution_count": null,
   "id": "d20897ca-12fb-4d64-b022-e6296f7084c7",
   "metadata": {},
   "outputs": [],
   "source": []
  }
 ],
 "metadata": {
  "kernelspec": {
   "display_name": "Python 3 (ipykernel)",
   "language": "python",
   "name": "python3"
  },
  "language_info": {
   "codemirror_mode": {
    "name": "ipython",
    "version": 3
   },
   "file_extension": ".py",
   "mimetype": "text/x-python",
   "name": "python",
   "nbconvert_exporter": "python",
   "pygments_lexer": "ipython3",
   "version": "3.12.7"
  }
 },
 "nbformat": 4,
 "nbformat_minor": 5
}
