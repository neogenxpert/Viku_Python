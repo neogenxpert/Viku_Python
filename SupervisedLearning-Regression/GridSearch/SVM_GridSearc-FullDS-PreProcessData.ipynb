{
 "cells": [
  {
   "cell_type": "markdown",
   "metadata": {
    "colab_type": "text",
    "id": "view-in-github"
   },
   "source": [
    "<a href=\"https://colab.research.google.com/github/neogenxpert/Viku_Python/blob/neogenxpert-ML/SVM_GridSearc.ipynb\" target=\"_parent\"><img src=\"https://colab.research.google.com/assets/colab-badge.svg\" alt=\"Open In Colab\"/></a>"
   ]
  },
  {
   "cell_type": "code",
   "execution_count": 1,
   "metadata": {
    "id": "z5PoEsqbL42r"
   },
   "outputs": [],
   "source": [
    "import pandas as pd\n",
    "ds=pd.read_csv(\"insurance_pre.csv\")\n",
    "ds=pd.get_dummies(ds,drop_first=True)"
   ]
  },
  {
   "cell_type": "code",
   "execution_count": 2,
   "metadata": {
    "id": "Jqr1REmGNrdS"
   },
   "outputs": [],
   "source": [
    "independent = ds.iloc[:,[0,1,2,4,5]]\n",
    "dependent = ds.iloc[:,3]"
   ]
  },
  {
   "cell_type": "code",
   "execution_count": null,
   "metadata": {},
   "outputs": [],
   "source": [
    "from sklearn.preprocessing import StandardScaler\n",
    "scaler = StandardScaler()\n",
    "x_scaled = scaler.fit_transform(X_numerical)"
   ]
  },
  {
   "cell_type": "code",
   "execution_count": null,
   "metadata": {
    "colab": {
     "base_uri": "https://localhost:8080/"
    },
    "id": "OE_pwysIOruA",
    "outputId": "5ae3ae15-766f-4fed-825d-caba798ad09a"
   },
   "outputs": [
    {
     "name": "stdout",
     "output_type": "stream",
     "text": [
      "Fitting 5 folds for each of 16 candidates, totalling 80 fits\n"
     ]
    }
   ],
   "source": [
    "from sklearn.model_selection import GridSearchCV\n",
    "from sklearn.svm import SVR\n",
    "par_grid = {'kernel':['linear','rbf','sigmoid','poly'], 'C':[10,100], 'gamma':['auto','scale'] }\n",
    "Regressor = GridSearchCV(SVR(), par_grid, refit = True, verbose = 3, n_jobs=-1)\n",
    "Regressor.fit(independent,dependent)"
   ]
  },
  {
   "cell_type": "code",
   "execution_count": null,
   "metadata": {
    "id": "e1Ptu4veUqVm"
   },
   "outputs": [],
   "source": [
    "grid = Regressor.cv_results_\n",
    "print(\"The R_score value for the Best Paramater {} :\".format(Regressor.best_params_))"
   ]
  },
  {
   "cell_type": "code",
   "execution_count": null,
   "metadata": {
    "id": "1sjXxWg1U3WZ"
   },
   "outputs": [],
   "source": [
    "table = pd.DataFrame.from_dict(grid)\n",
    "table"
   ]
  },
  {
   "cell_type": "code",
   "execution_count": null,
   "metadata": {
    "id": "71jtsq8yS7KN"
   },
   "outputs": [],
   "source": [
    "age = float(input(\"Age:\"))\n",
    "bmi = float(input(\"BMI:\"))\n",
    "children= int(input(\"No of Childrens:\"))\n",
    "sex = int(input(\"Male 0 or 1:\"))\n",
    "smoker = int(input(\"Smoker Yes 0 or 1:\"))"
   ]
  },
  {
   "cell_type": "code",
   "execution_count": null,
   "metadata": {},
   "outputs": [],
   "source": [
    "Prediction = Regressor.predict([[age,bmi,children,sex,smoker]])\n",
    "print(\" Prediction = {}\".format(Prediction))"
   ]
  },
  {
   "cell_type": "code",
   "execution_count": null,
   "metadata": {},
   "outputs": [],
   "source": []
  }
 ],
 "metadata": {
  "colab": {
   "authorship_tag": "ABX9TyOnLsypLByPz/K/oMUnK7Or",
   "include_colab_link": true,
   "provenance": []
  },
  "kernelspec": {
   "display_name": "Python 3 (ipykernel)",
   "language": "python",
   "name": "python3"
  },
  "language_info": {
   "codemirror_mode": {
    "name": "ipython",
    "version": 3
   },
   "file_extension": ".py",
   "mimetype": "text/x-python",
   "name": "python",
   "nbconvert_exporter": "python",
   "pygments_lexer": "ipython3",
   "version": "3.13.5"
  }
 },
 "nbformat": 4,
 "nbformat_minor": 4
}
