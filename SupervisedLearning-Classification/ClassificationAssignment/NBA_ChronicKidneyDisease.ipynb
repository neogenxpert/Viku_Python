{
 "cells": [
  {
   "cell_type": "code",
   "execution_count": 13,
   "id": "b3e2c839-da8e-425e-9887-f1d3a79986e3",
   "metadata": {},
   "outputs": [],
   "source": [
    "import pandas as pd"
   ]
  },
  {
   "cell_type": "code",
   "execution_count": 14,
   "id": "66a1faf7-ad66-4119-b786-f14dc79cb591",
   "metadata": {},
   "outputs": [],
   "source": [
    "ds = pd.read_csv(\"CKD.csv\")"
   ]
  },
  {
   "cell_type": "code",
   "execution_count": 15,
   "id": "81f3f1e7-35f3-4106-b611-44d5d390f54c",
   "metadata": {},
   "outputs": [
    {
     "data": {
      "text/plain": [
       "classification\n",
       "yes    249\n",
       "no     150\n",
       "Name: count, dtype: int64"
      ]
     },
     "execution_count": 15,
     "metadata": {},
     "output_type": "execute_result"
    }
   ],
   "source": [
    "#Check the balanced or imbalanced values\n",
    "ds[\"classification\"].value_counts()"
   ]
  },
  {
   "cell_type": "code",
   "execution_count": 16,
   "id": "bd48143f-f87e-4cdb-8c18-aaf7969e2626",
   "metadata": {},
   "outputs": [],
   "source": [
    "ds = pd.get_dummies(ds,drop_first=True)"
   ]
  },
  {
   "cell_type": "code",
   "execution_count": 17,
   "id": "6e388594-3199-4850-8c15-8e1ff2b7ac68",
   "metadata": {},
   "outputs": [],
   "source": [
    "#ds.columns"
   ]
  },
  {
   "cell_type": "code",
   "execution_count": 18,
   "id": "0a926ccf-6afb-4842-9cf7-8b0f8480cf8f",
   "metadata": {},
   "outputs": [],
   "source": [
    "#Input fields\n",
    "independent = ds[['age', 'bp', 'al', 'su', 'bgr', 'bu', 'sc', 'sod', 'pot', 'hrmo', 'pcv','wc', 'rc', 'sg_b', 'sg_c', 'sg_d', 'sg_e', 'rbc_normal', 'pc_normal',\n",
    "       'pcc_present', 'ba_present', 'htn_yes', 'dm_yes', 'cad_yes','appet_yes', 'pe_yes', 'ane_yes']]\n",
    "\n",
    "#output fields\n",
    "dependent =ds[['classification_yes']]"
   ]
  },
  {
   "cell_type": "code",
   "execution_count": 20,
   "id": "89763ce2-c75b-4c58-9c64-bcdb1e232836",
   "metadata": {},
   "outputs": [],
   "source": [
    "#Split the data for train test\n",
    "from sklearn.model_selection import train_test_split\n",
    "x_train,x_test,y_train,y_test=train_test_split(independent,dependent,test_size=0.30,random_state=False)"
   ]
  },
  {
   "cell_type": "code",
   "execution_count": 21,
   "id": "fab3cc20-8ce8-426f-ab08-3ccdae4759d6",
   "metadata": {},
   "outputs": [],
   "source": [
    "#preprocessing tool used standardize features by removing the mean and scaling to unit variance. z-score normalization.\n",
    "from sklearn.preprocessing import StandardScaler\n",
    "sc = StandardScaler()\n",
    "x_train = sc.fit_transform(x_train) # x - mean/std deviation\n",
    "x_test = sc.transform(x_test)"
   ]
  },
  {
   "cell_type": "code",
   "execution_count": 22,
   "id": "d1f2410b-1b3f-48ca-9789-a47c2b92bbc9",
   "metadata": {},
   "outputs": [
    {
     "name": "stdout",
     "output_type": "stream",
     "text": [
      "Fitting 5 folds for each of 5 candidates, totalling 25 fits\n"
     ]
    },
    {
     "name": "stderr",
     "output_type": "stream",
     "text": [
      "C:\\Users\\1309048\\AppData\\Local\\anaconda3\\Lib\\site-packages\\sklearn\\utils\\validation.py:1408: DataConversionWarning: A column-vector y was passed when a 1d array was expected. Please change the shape of y to (n_samples, ), for example using ravel().\n",
      "  y = column_or_1d(y, warn=True)\n"
     ]
    },
    {
     "data": {
      "text/html": [
       "<div>\n",
       "<style scoped>\n",
       "    .dataframe tbody tr th:only-of-type {\n",
       "        vertical-align: middle;\n",
       "    }\n",
       "\n",
       "    .dataframe tbody tr th {\n",
       "        vertical-align: top;\n",
       "    }\n",
       "\n",
       "    .dataframe thead th {\n",
       "        text-align: right;\n",
       "    }\n",
       "</style>\n",
       "<table border=\"1\" class=\"dataframe\">\n",
       "  <thead>\n",
       "    <tr style=\"text-align: right;\">\n",
       "      <th></th>\n",
       "      <th>mean_fit_time</th>\n",
       "      <th>std_fit_time</th>\n",
       "      <th>mean_score_time</th>\n",
       "      <th>std_score_time</th>\n",
       "      <th>param_var_smoothing</th>\n",
       "      <th>params</th>\n",
       "      <th>split0_test_score</th>\n",
       "      <th>split1_test_score</th>\n",
       "      <th>split2_test_score</th>\n",
       "      <th>split3_test_score</th>\n",
       "      <th>split4_test_score</th>\n",
       "      <th>mean_test_score</th>\n",
       "      <th>std_test_score</th>\n",
       "      <th>rank_test_score</th>\n",
       "    </tr>\n",
       "  </thead>\n",
       "  <tbody>\n",
       "    <tr>\n",
       "      <th>0</th>\n",
       "      <td>0.003238</td>\n",
       "      <td>0.001118</td>\n",
       "      <td>0.002386</td>\n",
       "      <td>0.000430</td>\n",
       "      <td>1.000000e-09</td>\n",
       "      <td>{'var_smoothing': 1e-09}</td>\n",
       "      <td>0.982143</td>\n",
       "      <td>1.0</td>\n",
       "      <td>0.946429</td>\n",
       "      <td>1.0</td>\n",
       "      <td>0.981818</td>\n",
       "      <td>0.982078</td>\n",
       "      <td>0.019562</td>\n",
       "      <td>4</td>\n",
       "    </tr>\n",
       "    <tr>\n",
       "      <th>1</th>\n",
       "      <td>0.013533</td>\n",
       "      <td>0.015038</td>\n",
       "      <td>0.012962</td>\n",
       "      <td>0.011743</td>\n",
       "      <td>1.000000e-08</td>\n",
       "      <td>{'var_smoothing': 1e-08}</td>\n",
       "      <td>0.982143</td>\n",
       "      <td>1.0</td>\n",
       "      <td>0.946429</td>\n",
       "      <td>1.0</td>\n",
       "      <td>0.981818</td>\n",
       "      <td>0.982078</td>\n",
       "      <td>0.019562</td>\n",
       "      <td>4</td>\n",
       "    </tr>\n",
       "    <tr>\n",
       "      <th>2</th>\n",
       "      <td>0.025670</td>\n",
       "      <td>0.007119</td>\n",
       "      <td>0.004710</td>\n",
       "      <td>0.002021</td>\n",
       "      <td>1.000000e-07</td>\n",
       "      <td>{'var_smoothing': 1e-07}</td>\n",
       "      <td>0.982143</td>\n",
       "      <td>1.0</td>\n",
       "      <td>0.964286</td>\n",
       "      <td>1.0</td>\n",
       "      <td>0.981818</td>\n",
       "      <td>0.985649</td>\n",
       "      <td>0.013381</td>\n",
       "      <td>1</td>\n",
       "    </tr>\n",
       "    <tr>\n",
       "      <th>3</th>\n",
       "      <td>0.003702</td>\n",
       "      <td>0.000854</td>\n",
       "      <td>0.003426</td>\n",
       "      <td>0.000085</td>\n",
       "      <td>1.000000e-06</td>\n",
       "      <td>{'var_smoothing': 1e-06}</td>\n",
       "      <td>0.982143</td>\n",
       "      <td>1.0</td>\n",
       "      <td>0.964286</td>\n",
       "      <td>1.0</td>\n",
       "      <td>0.981818</td>\n",
       "      <td>0.985649</td>\n",
       "      <td>0.013381</td>\n",
       "      <td>1</td>\n",
       "    </tr>\n",
       "    <tr>\n",
       "      <th>4</th>\n",
       "      <td>0.004574</td>\n",
       "      <td>0.001621</td>\n",
       "      <td>0.002451</td>\n",
       "      <td>0.000977</td>\n",
       "      <td>1.000000e-05</td>\n",
       "      <td>{'var_smoothing': 1e-05}</td>\n",
       "      <td>0.982143</td>\n",
       "      <td>1.0</td>\n",
       "      <td>0.964286</td>\n",
       "      <td>1.0</td>\n",
       "      <td>0.981818</td>\n",
       "      <td>0.985649</td>\n",
       "      <td>0.013381</td>\n",
       "      <td>1</td>\n",
       "    </tr>\n",
       "  </tbody>\n",
       "</table>\n",
       "</div>"
      ],
      "text/plain": [
       "   mean_fit_time  std_fit_time  mean_score_time  std_score_time  \\\n",
       "0       0.003238      0.001118         0.002386        0.000430   \n",
       "1       0.013533      0.015038         0.012962        0.011743   \n",
       "2       0.025670      0.007119         0.004710        0.002021   \n",
       "3       0.003702      0.000854         0.003426        0.000085   \n",
       "4       0.004574      0.001621         0.002451        0.000977   \n",
       "\n",
       "   param_var_smoothing                    params  split0_test_score  \\\n",
       "0         1.000000e-09  {'var_smoothing': 1e-09}           0.982143   \n",
       "1         1.000000e-08  {'var_smoothing': 1e-08}           0.982143   \n",
       "2         1.000000e-07  {'var_smoothing': 1e-07}           0.982143   \n",
       "3         1.000000e-06  {'var_smoothing': 1e-06}           0.982143   \n",
       "4         1.000000e-05  {'var_smoothing': 1e-05}           0.982143   \n",
       "\n",
       "   split1_test_score  split2_test_score  split3_test_score  split4_test_score  \\\n",
       "0                1.0           0.946429                1.0           0.981818   \n",
       "1                1.0           0.946429                1.0           0.981818   \n",
       "2                1.0           0.964286                1.0           0.981818   \n",
       "3                1.0           0.964286                1.0           0.981818   \n",
       "4                1.0           0.964286                1.0           0.981818   \n",
       "\n",
       "   mean_test_score  std_test_score  rank_test_score  \n",
       "0         0.982078        0.019562                4  \n",
       "1         0.982078        0.019562                4  \n",
       "2         0.985649        0.013381                1  \n",
       "3         0.985649        0.013381                1  \n",
       "4         0.985649        0.013381                1  "
      ]
     },
     "execution_count": 22,
     "metadata": {},
     "output_type": "execute_result"
    }
   ],
   "source": [
    "from sklearn.model_selection import GridSearchCV\n",
    "#Model creation \n",
    "from sklearn.naive_bayes import GaussianNB\n",
    "parm_grid = {\n",
    "            'var_smoothing': [1e-9, 1e-8, 1e-7, 1e-6, 1e-5]\n",
    "            }\n",
    "Classifier = GridSearchCV(GaussianNB(), parm_grid, refit = True, verbose = 3, n_jobs=-1)\n",
    "\n",
    "Classifier.fit(x_train,y_train)\n",
    "\n",
    "result = Classifier.cv_results_\n",
    "\n",
    "y_pred = Classifier.predict(x_test)\n",
    "table = pd.DataFrame.from_dict(result)\n",
    "table"
   ]
  },
  {
   "cell_type": "code",
   "execution_count": 23,
   "id": "aaedb6b8-c2cb-4fc4-bf26-4500a5a45404",
   "metadata": {},
   "outputs": [
    {
     "name": "stdout",
     "output_type": "stream",
     "text": [
      "[[45  0]\n",
      " [ 3 72]]\n"
     ]
    }
   ],
   "source": [
    "# Get the metrics\n",
    "from sklearn.metrics import confusion_matrix\n",
    "matric = confusion_matrix(y_test,y_pred)\n",
    "print(matric)"
   ]
  },
  {
   "cell_type": "code",
   "execution_count": 24,
   "id": "ff39892c-bb93-44f5-8beb-56965d3d979c",
   "metadata": {},
   "outputs": [
    {
     "name": "stdout",
     "output_type": "stream",
     "text": [
      "              precision    recall  f1-score   support\n",
      "\n",
      "       False       0.94      1.00      0.97        45\n",
      "        True       1.00      0.96      0.98        75\n",
      "\n",
      "    accuracy                           0.97       120\n",
      "   macro avg       0.97      0.98      0.97       120\n",
      "weighted avg       0.98      0.97      0.98       120\n",
      "\n"
     ]
    }
   ],
   "source": [
    "# get the classification report\n",
    "from sklearn.metrics import classification_report\n",
    "report = classification_report(y_test,y_pred)\n",
    "print(report)"
   ]
  },
  {
   "cell_type": "code",
   "execution_count": 26,
   "id": "527e6edd-ef29-45b0-96e3-fd7fc95ac223",
   "metadata": {},
   "outputs": [
    {
     "name": "stdout",
     "output_type": "stream",
     "text": [
      "The best value for Parameter {'var_smoothing': 1e-07}: 0.9751481237656352\n"
     ]
    }
   ],
   "source": [
    "# Key to built the model\n",
    "# How well model supports for overall call model\n",
    "from sklearn.metrics import f1_score\n",
    "f1_macro = f1_score (y_test,y_pred,average='weighted')\n",
    "print (\"The best value for Parameter {}:\".format(Classifier.best_params_),f1_macro)"
   ]
  },
  {
   "cell_type": "code",
   "execution_count": 27,
   "id": "656d4597-ec24-4dfa-a4b0-218d69ac8cfc",
   "metadata": {},
   "outputs": [
    {
     "name": "stdout",
     "output_type": "stream",
     "text": [
      "The best value for Parameter {'var_smoothing': 1e-07}: 1.0\n"
     ]
    }
   ],
   "source": [
    "# receiver operating characteristic and Area under the curve\n",
    "# How well model supports for Class 0 and class 1\n",
    "from sklearn.metrics import roc_auc_score\n",
    "roc_auc = roc_auc_score (y_test,Classifier.predict_proba(x_test)[:,1]) # : tell all rows, take 1 ist colum of all rows for probability \n",
    "print (\"The best value for Parameter {}:\".format(Classifier.best_params_),roc_auc)"
   ]
  },
  {
   "cell_type": "code",
   "execution_count": 42,
   "id": "4f7379d6-9ca5-4dc8-bd36-3dc8104a5ea0",
   "metadata": {},
   "outputs": [
    {
     "name": "stdout",
     "output_type": "stream",
     "text": [
      "Fitting 5 folds for each of 5 candidates, totalling 25 fits\n"
     ]
    },
    {
     "ename": "ValueError",
     "evalue": "\nAll the 25 fits failed.\nIt is very likely that your model is misconfigured.\nYou can try to debug the error by setting error_score='raise'.\n\nBelow are more details about the failures:\n--------------------------------------------------------------------------------\n25 fits failed with the following error:\nTraceback (most recent call last):\n  File \"C:\\Users\\1309048\\AppData\\Local\\anaconda3\\Lib\\site-packages\\sklearn\\model_selection\\_validation.py\", line 866, in _fit_and_score\n    estimator.fit(X_train, y_train, **fit_params)\n    ~~~~~~~~~~~~~^^^^^^^^^^^^^^^^^^^^^^^^^^^^^^^^\n  File \"C:\\Users\\1309048\\AppData\\Local\\anaconda3\\Lib\\site-packages\\sklearn\\naive_bayes.py\", line 1388, in fit\n    return super().fit(X, y, sample_weight=sample_weight)\n           ~~~~~~~~~~~^^^^^^^^^^^^^^^^^^^^^^^^^^^^^^^^^^^\n  File \"C:\\Users\\1309048\\AppData\\Local\\anaconda3\\Lib\\site-packages\\sklearn\\base.py\", line 1389, in wrapper\n    return fit_method(estimator, *args, **kwargs)\n  File \"C:\\Users\\1309048\\AppData\\Local\\anaconda3\\Lib\\site-packages\\sklearn\\naive_bayes.py\", line 735, in fit\n    X, y = self._check_X_y(X, y)\n           ~~~~~~~~~~~~~~~^^^^^^\n  File \"C:\\Users\\1309048\\AppData\\Local\\anaconda3\\Lib\\site-packages\\sklearn\\naive_bayes.py\", line 1463, in _check_X_y\n    check_non_negative(X, \"CategoricalNB (input X)\")\n    ~~~~~~~~~~~~~~~~~~^^^^^^^^^^^^^^^^^^^^^^^^^^^^^^\n  File \"C:\\Users\\1309048\\AppData\\Local\\anaconda3\\Lib\\site-packages\\sklearn\\utils\\validation.py\", line 1827, in check_non_negative\n    raise ValueError(f\"Negative values in data passed to {whom}.\")\nValueError: Negative values in data passed to CategoricalNB (input X).\n",
     "output_type": "error",
     "traceback": [
      "\u001b[1;31m---------------------------------------------------------------------------\u001b[0m",
      "\u001b[1;31mValueError\u001b[0m                                Traceback (most recent call last)",
      "Cell \u001b[1;32mIn[42], line 20\u001b[0m\n\u001b[0;32m     15\u001b[0m parm_grid \u001b[38;5;241m=\u001b[39m {\n\u001b[0;32m     16\u001b[0m             \u001b[38;5;124m'\u001b[39m\u001b[38;5;124malpha\u001b[39m\u001b[38;5;124m'\u001b[39m: [\u001b[38;5;241m0.1\u001b[39m, \u001b[38;5;241m0.5\u001b[39m, \u001b[38;5;241m1.0\u001b[39m, \u001b[38;5;241m2.0\u001b[39m, \u001b[38;5;241m5.0\u001b[39m]\n\u001b[0;32m     17\u001b[0m             }\n\u001b[0;32m     18\u001b[0m Classifier \u001b[38;5;241m=\u001b[39m GridSearchCV(CategoricalNB(), parm_grid, refit \u001b[38;5;241m=\u001b[39m \u001b[38;5;28;01mTrue\u001b[39;00m, verbose \u001b[38;5;241m=\u001b[39m \u001b[38;5;241m3\u001b[39m, n_jobs\u001b[38;5;241m=\u001b[39m\u001b[38;5;241m-\u001b[39m\u001b[38;5;241m1\u001b[39m,cv\u001b[38;5;241m=\u001b[39m\u001b[38;5;241m5\u001b[39m, scoring\u001b[38;5;241m=\u001b[39m\u001b[38;5;124m'\u001b[39m\u001b[38;5;124maccuracy\u001b[39m\u001b[38;5;124m'\u001b[39m)\n\u001b[1;32m---> 20\u001b[0m Classifier\u001b[38;5;241m.\u001b[39mfit(x_train1,y_train1)\n\u001b[0;32m     22\u001b[0m result1 \u001b[38;5;241m=\u001b[39m Classifier\u001b[38;5;241m.\u001b[39mcv_results_\n\u001b[0;32m     24\u001b[0m y_pred1 \u001b[38;5;241m=\u001b[39m Classifier\u001b[38;5;241m.\u001b[39mpredict(x_test1)\n",
      "File \u001b[1;32m~\\AppData\\Local\\anaconda3\\Lib\\site-packages\\sklearn\\base.py:1389\u001b[0m, in \u001b[0;36m_fit_context.<locals>.decorator.<locals>.wrapper\u001b[1;34m(estimator, *args, **kwargs)\u001b[0m\n\u001b[0;32m   1382\u001b[0m     estimator\u001b[38;5;241m.\u001b[39m_validate_params()\n\u001b[0;32m   1384\u001b[0m \u001b[38;5;28;01mwith\u001b[39;00m config_context(\n\u001b[0;32m   1385\u001b[0m     skip_parameter_validation\u001b[38;5;241m=\u001b[39m(\n\u001b[0;32m   1386\u001b[0m         prefer_skip_nested_validation \u001b[38;5;129;01mor\u001b[39;00m global_skip_validation\n\u001b[0;32m   1387\u001b[0m     )\n\u001b[0;32m   1388\u001b[0m ):\n\u001b[1;32m-> 1389\u001b[0m     \u001b[38;5;28;01mreturn\u001b[39;00m fit_method(estimator, \u001b[38;5;241m*\u001b[39margs, \u001b[38;5;241m*\u001b[39m\u001b[38;5;241m*\u001b[39mkwargs)\n",
      "File \u001b[1;32m~\\AppData\\Local\\anaconda3\\Lib\\site-packages\\sklearn\\model_selection\\_search.py:1024\u001b[0m, in \u001b[0;36mBaseSearchCV.fit\u001b[1;34m(self, X, y, **params)\u001b[0m\n\u001b[0;32m   1018\u001b[0m     results \u001b[38;5;241m=\u001b[39m \u001b[38;5;28mself\u001b[39m\u001b[38;5;241m.\u001b[39m_format_results(\n\u001b[0;32m   1019\u001b[0m         all_candidate_params, n_splits, all_out, all_more_results\n\u001b[0;32m   1020\u001b[0m     )\n\u001b[0;32m   1022\u001b[0m     \u001b[38;5;28;01mreturn\u001b[39;00m results\n\u001b[1;32m-> 1024\u001b[0m \u001b[38;5;28mself\u001b[39m\u001b[38;5;241m.\u001b[39m_run_search(evaluate_candidates)\n\u001b[0;32m   1026\u001b[0m \u001b[38;5;66;03m# multimetric is determined here because in the case of a callable\u001b[39;00m\n\u001b[0;32m   1027\u001b[0m \u001b[38;5;66;03m# self.scoring the return type is only known after calling\u001b[39;00m\n\u001b[0;32m   1028\u001b[0m first_test_score \u001b[38;5;241m=\u001b[39m all_out[\u001b[38;5;241m0\u001b[39m][\u001b[38;5;124m\"\u001b[39m\u001b[38;5;124mtest_scores\u001b[39m\u001b[38;5;124m\"\u001b[39m]\n",
      "File \u001b[1;32m~\\AppData\\Local\\anaconda3\\Lib\\site-packages\\sklearn\\model_selection\\_search.py:1571\u001b[0m, in \u001b[0;36mGridSearchCV._run_search\u001b[1;34m(self, evaluate_candidates)\u001b[0m\n\u001b[0;32m   1569\u001b[0m \u001b[38;5;28;01mdef\u001b[39;00m\u001b[38;5;250m \u001b[39m\u001b[38;5;21m_run_search\u001b[39m(\u001b[38;5;28mself\u001b[39m, evaluate_candidates):\n\u001b[0;32m   1570\u001b[0m \u001b[38;5;250m    \u001b[39m\u001b[38;5;124;03m\"\"\"Search all candidates in param_grid\"\"\"\u001b[39;00m\n\u001b[1;32m-> 1571\u001b[0m     evaluate_candidates(ParameterGrid(\u001b[38;5;28mself\u001b[39m\u001b[38;5;241m.\u001b[39mparam_grid))\n",
      "File \u001b[1;32m~\\AppData\\Local\\anaconda3\\Lib\\site-packages\\sklearn\\model_selection\\_search.py:1001\u001b[0m, in \u001b[0;36mBaseSearchCV.fit.<locals>.evaluate_candidates\u001b[1;34m(candidate_params, cv, more_results)\u001b[0m\n\u001b[0;32m    994\u001b[0m \u001b[38;5;28;01melif\u001b[39;00m \u001b[38;5;28mlen\u001b[39m(out) \u001b[38;5;241m!=\u001b[39m n_candidates \u001b[38;5;241m*\u001b[39m n_splits:\n\u001b[0;32m    995\u001b[0m     \u001b[38;5;28;01mraise\u001b[39;00m \u001b[38;5;167;01mValueError\u001b[39;00m(\n\u001b[0;32m    996\u001b[0m         \u001b[38;5;124m\"\u001b[39m\u001b[38;5;124mcv.split and cv.get_n_splits returned \u001b[39m\u001b[38;5;124m\"\u001b[39m\n\u001b[0;32m    997\u001b[0m         \u001b[38;5;124m\"\u001b[39m\u001b[38;5;124minconsistent results. Expected \u001b[39m\u001b[38;5;132;01m{}\u001b[39;00m\u001b[38;5;124m \u001b[39m\u001b[38;5;124m\"\u001b[39m\n\u001b[0;32m    998\u001b[0m         \u001b[38;5;124m\"\u001b[39m\u001b[38;5;124msplits, got \u001b[39m\u001b[38;5;132;01m{}\u001b[39;00m\u001b[38;5;124m\"\u001b[39m\u001b[38;5;241m.\u001b[39mformat(n_splits, \u001b[38;5;28mlen\u001b[39m(out) \u001b[38;5;241m/\u001b[39m\u001b[38;5;241m/\u001b[39m n_candidates)\n\u001b[0;32m    999\u001b[0m     )\n\u001b[1;32m-> 1001\u001b[0m _warn_or_raise_about_fit_failures(out, \u001b[38;5;28mself\u001b[39m\u001b[38;5;241m.\u001b[39merror_score)\n\u001b[0;32m   1003\u001b[0m \u001b[38;5;66;03m# For callable self.scoring, the return type is only know after\u001b[39;00m\n\u001b[0;32m   1004\u001b[0m \u001b[38;5;66;03m# calling. If the return type is a dictionary, the error scores\u001b[39;00m\n\u001b[0;32m   1005\u001b[0m \u001b[38;5;66;03m# can now be inserted with the correct key. The type checking\u001b[39;00m\n\u001b[0;32m   1006\u001b[0m \u001b[38;5;66;03m# of out will be done in `_insert_error_scores`.\u001b[39;00m\n\u001b[0;32m   1007\u001b[0m \u001b[38;5;28;01mif\u001b[39;00m \u001b[38;5;28mcallable\u001b[39m(\u001b[38;5;28mself\u001b[39m\u001b[38;5;241m.\u001b[39mscoring):\n",
      "File \u001b[1;32m~\\AppData\\Local\\anaconda3\\Lib\\site-packages\\sklearn\\model_selection\\_validation.py:517\u001b[0m, in \u001b[0;36m_warn_or_raise_about_fit_failures\u001b[1;34m(results, error_score)\u001b[0m\n\u001b[0;32m    510\u001b[0m \u001b[38;5;28;01mif\u001b[39;00m num_failed_fits \u001b[38;5;241m==\u001b[39m num_fits:\n\u001b[0;32m    511\u001b[0m     all_fits_failed_message \u001b[38;5;241m=\u001b[39m (\n\u001b[0;32m    512\u001b[0m         \u001b[38;5;124mf\u001b[39m\u001b[38;5;124m\"\u001b[39m\u001b[38;5;130;01m\\n\u001b[39;00m\u001b[38;5;124mAll the \u001b[39m\u001b[38;5;132;01m{\u001b[39;00mnum_fits\u001b[38;5;132;01m}\u001b[39;00m\u001b[38;5;124m fits failed.\u001b[39m\u001b[38;5;130;01m\\n\u001b[39;00m\u001b[38;5;124m\"\u001b[39m\n\u001b[0;32m    513\u001b[0m         \u001b[38;5;124m\"\u001b[39m\u001b[38;5;124mIt is very likely that your model is misconfigured.\u001b[39m\u001b[38;5;130;01m\\n\u001b[39;00m\u001b[38;5;124m\"\u001b[39m\n\u001b[0;32m    514\u001b[0m         \u001b[38;5;124m\"\u001b[39m\u001b[38;5;124mYou can try to debug the error by setting error_score=\u001b[39m\u001b[38;5;124m'\u001b[39m\u001b[38;5;124mraise\u001b[39m\u001b[38;5;124m'\u001b[39m\u001b[38;5;124m.\u001b[39m\u001b[38;5;130;01m\\n\u001b[39;00m\u001b[38;5;130;01m\\n\u001b[39;00m\u001b[38;5;124m\"\u001b[39m\n\u001b[0;32m    515\u001b[0m         \u001b[38;5;124mf\u001b[39m\u001b[38;5;124m\"\u001b[39m\u001b[38;5;124mBelow are more details about the failures:\u001b[39m\u001b[38;5;130;01m\\n\u001b[39;00m\u001b[38;5;132;01m{\u001b[39;00mfit_errors_summary\u001b[38;5;132;01m}\u001b[39;00m\u001b[38;5;124m\"\u001b[39m\n\u001b[0;32m    516\u001b[0m     )\n\u001b[1;32m--> 517\u001b[0m     \u001b[38;5;28;01mraise\u001b[39;00m \u001b[38;5;167;01mValueError\u001b[39;00m(all_fits_failed_message)\n\u001b[0;32m    519\u001b[0m \u001b[38;5;28;01melse\u001b[39;00m:\n\u001b[0;32m    520\u001b[0m     some_fits_failed_message \u001b[38;5;241m=\u001b[39m (\n\u001b[0;32m    521\u001b[0m         \u001b[38;5;124mf\u001b[39m\u001b[38;5;124m\"\u001b[39m\u001b[38;5;130;01m\\n\u001b[39;00m\u001b[38;5;132;01m{\u001b[39;00mnum_failed_fits\u001b[38;5;132;01m}\u001b[39;00m\u001b[38;5;124m fits failed out of a total of \u001b[39m\u001b[38;5;132;01m{\u001b[39;00mnum_fits\u001b[38;5;132;01m}\u001b[39;00m\u001b[38;5;124m.\u001b[39m\u001b[38;5;130;01m\\n\u001b[39;00m\u001b[38;5;124m\"\u001b[39m\n\u001b[0;32m    522\u001b[0m         \u001b[38;5;124m\"\u001b[39m\u001b[38;5;124mThe score on these train-test partitions for these parameters\u001b[39m\u001b[38;5;124m\"\u001b[39m\n\u001b[1;32m   (...)\u001b[0m\n\u001b[0;32m    526\u001b[0m         \u001b[38;5;124mf\u001b[39m\u001b[38;5;124m\"\u001b[39m\u001b[38;5;124mBelow are more details about the failures:\u001b[39m\u001b[38;5;130;01m\\n\u001b[39;00m\u001b[38;5;132;01m{\u001b[39;00mfit_errors_summary\u001b[38;5;132;01m}\u001b[39;00m\u001b[38;5;124m\"\u001b[39m\n\u001b[0;32m    527\u001b[0m     )\n",
      "\u001b[1;31mValueError\u001b[0m: \nAll the 25 fits failed.\nIt is very likely that your model is misconfigured.\nYou can try to debug the error by setting error_score='raise'.\n\nBelow are more details about the failures:\n--------------------------------------------------------------------------------\n25 fits failed with the following error:\nTraceback (most recent call last):\n  File \"C:\\Users\\1309048\\AppData\\Local\\anaconda3\\Lib\\site-packages\\sklearn\\model_selection\\_validation.py\", line 866, in _fit_and_score\n    estimator.fit(X_train, y_train, **fit_params)\n    ~~~~~~~~~~~~~^^^^^^^^^^^^^^^^^^^^^^^^^^^^^^^^\n  File \"C:\\Users\\1309048\\AppData\\Local\\anaconda3\\Lib\\site-packages\\sklearn\\naive_bayes.py\", line 1388, in fit\n    return super().fit(X, y, sample_weight=sample_weight)\n           ~~~~~~~~~~~^^^^^^^^^^^^^^^^^^^^^^^^^^^^^^^^^^^\n  File \"C:\\Users\\1309048\\AppData\\Local\\anaconda3\\Lib\\site-packages\\sklearn\\base.py\", line 1389, in wrapper\n    return fit_method(estimator, *args, **kwargs)\n  File \"C:\\Users\\1309048\\AppData\\Local\\anaconda3\\Lib\\site-packages\\sklearn\\naive_bayes.py\", line 735, in fit\n    X, y = self._check_X_y(X, y)\n           ~~~~~~~~~~~~~~~^^^^^^\n  File \"C:\\Users\\1309048\\AppData\\Local\\anaconda3\\Lib\\site-packages\\sklearn\\naive_bayes.py\", line 1463, in _check_X_y\n    check_non_negative(X, \"CategoricalNB (input X)\")\n    ~~~~~~~~~~~~~~~~~~^^^^^^^^^^^^^^^^^^^^^^^^^^^^^^\n  File \"C:\\Users\\1309048\\AppData\\Local\\anaconda3\\Lib\\site-packages\\sklearn\\utils\\validation.py\", line 1827, in check_non_negative\n    raise ValueError(f\"Negative values in data passed to {whom}.\")\nValueError: Negative values in data passed to CategoricalNB (input X).\n"
     ]
    }
   ],
   "source": [
    "#Split the data for train test\n",
    "from sklearn.model_selection import train_test_split\n",
    "x_train1,x_test1,y_train1,y_test1=train_test_split(independent,dependent,test_size=0.30,random_state=False)\n",
    "\n",
    "#preprocessing tool used standardize features by removing the mean and scaling to unit variance. z-score normalization.\n",
    "from sklearn.preprocessing import StandardScaler\n",
    "sc = StandardScaler()\n",
    "x_train1 = sc.fit_transform(x_train1) # x - mean/std deviation\n",
    "x_test1 = sc.transform(x_test1)\n",
    "\n",
    "\n",
    "from sklearn.model_selection import GridSearchCV\n",
    "#Model creation \n",
    "from sklearn.naive_bayes import CategoricalNB\n",
    "parm_grid = {\n",
    "            'alpha': [0.1, 0.5, 1.0, 2.0, 5.0]\n",
    "            }\n",
    "Classifier = GridSearchCV(CategoricalNB(), parm_grid, refit = True, verbose = 3, n_jobs=-1,cv=5, scoring='accuracy')\n",
    "\n",
    "Classifier.fit(x_train1,y_train1)"
   ]
  },
  {
   "cell_type": "code",
   "execution_count": null,
   "id": "f0bb44c6-baee-4d4c-bc9f-fda33b0e7861",
   "metadata": {},
   "outputs": [],
   "source": []
  }
 ],
 "metadata": {
  "kernelspec": {
   "display_name": "Python 3 (ipykernel)",
   "language": "python",
   "name": "python3"
  },
  "language_info": {
   "codemirror_mode": {
    "name": "ipython",
    "version": 3
   },
   "file_extension": ".py",
   "mimetype": "text/x-python",
   "name": "python",
   "nbconvert_exporter": "python",
   "pygments_lexer": "ipython3",
   "version": "3.13.5"
  }
 },
 "nbformat": 4,
 "nbformat_minor": 5
}
