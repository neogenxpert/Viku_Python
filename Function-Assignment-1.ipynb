{
 "cells": [
  {
   "cell_type": "code",
   "execution_count": 27,
   "id": "aabc61fe-351d-4a15-9b85-63b794e7d083",
   "metadata": {},
   "outputs": [
    {
     "name": "stdout",
     "output_type": "stream",
     "text": [
      "Sub-fields in AI are:\n",
      "Machine Learning\n",
      "Neural Network\n",
      "Vision\n",
      "Robotics\n",
      "Speech Processing\n",
      "Natural langauge processing\n"
     ]
    }
   ],
   "source": [
    "def Subfields():\n",
    "    print(\"Sub-fields in AI are:\")\n",
    "    print(\"Machine Learning\")\n",
    "    print(\"Neural Network\")\n",
    "    print(\"Vision\")\n",
    "    print(\"Robotics\")\n",
    "    print(\"Speech Processing\")\n",
    "    print(\"Natural langauge processing\")\n",
    "\n",
    "Subfields()\n"
   ]
  },
  {
   "cell_type": "code",
   "execution_count": 1,
   "id": "b27f3f54-3d52-48f0-8049-bffaabdf8032",
   "metadata": {},
   "outputs": [],
   "source": [
    "def OddEven():\n",
    "    num=int(input(\"Enter the Number:\"))\n",
    "    if (num%2 != 0):\n",
    "        print(num, \"is Odd Number\")\n",
    "        val = f\"{num } is a Odd Number\"\n",
    "    else:    \n",
    "        print(\"is Even Number\")\n",
    "        val = f\"{num } is a Even Number\"\n",
    "    return val"
   ]
  },
  {
   "cell_type": "code",
   "execution_count": 2,
   "id": "b705da0d-cf54-486f-9347-7c8667cb3ba0",
   "metadata": {},
   "outputs": [
    {
     "name": "stdin",
     "output_type": "stream",
     "text": [
      "Enter the Number: 6\n"
     ]
    },
    {
     "name": "stdout",
     "output_type": "stream",
     "text": [
      "is Even Number\n"
     ]
    }
   ],
   "source": [
    "number=OddEven()"
   ]
  },
  {
   "cell_type": "code",
   "execution_count": 3,
   "id": "2fde33b0-eeb5-467e-a0b9-1d0dad28ce4b",
   "metadata": {},
   "outputs": [
    {
     "data": {
      "text/plain": [
       "'6 is a Even Number'"
      ]
     },
     "execution_count": 3,
     "metadata": {},
     "output_type": "execute_result"
    }
   ],
   "source": [
    "number"
   ]
  },
  {
   "cell_type": "code",
   "execution_count": 10,
   "id": "06ae6b50-d0ef-4dae-b875-f27573d4bcce",
   "metadata": {},
   "outputs": [],
   "source": [
    "def Marriage(gender,age):\n",
    "    if (gender.lower() == \"male\" and age <=20):\n",
    "        print(\"Your Gender:\", gender)\n",
    "        print(\"Your Age:\", age)\n",
    "        print(\"NOT ELIGIBLE\")\n",
    "        val = \"NOT ELIGIBLE\"\n",
    "    elif (gender.lower() == \"female\" and age <=17):\n",
    "        print(\"Your Gender:\", gender)\n",
    "        print(\"Your Age:\", age)\n",
    "        print(\"NOT ELIGIBLE\")\n",
    "        val = \"NOT ELIGIBLE\"    \n",
    "    else:    \n",
    "        print(\"ELIGIBLE\")\n",
    "        val = \"ELIGIBLE\"    \n",
    "    return val"
   ]
  },
  {
   "cell_type": "code",
   "execution_count": 11,
   "id": "354466cb-be6a-485d-accf-2107cad4a354",
   "metadata": {},
   "outputs": [
    {
     "name": "stdout",
     "output_type": "stream",
     "text": [
      "Your Gender: Male\n",
      "Your Age: 16\n",
      "NOT ELIGIBLE\n"
     ]
    }
   ],
   "source": [
    "eligible = Marriage(\"Male\",16)"
   ]
  },
  {
   "cell_type": "code",
   "execution_count": 12,
   "id": "c59b3aaf-c228-479a-8de0-f7850acca767",
   "metadata": {},
   "outputs": [
    {
     "name": "stdout",
     "output_type": "stream",
     "text": [
      "NOT ELIGIBLE\n"
     ]
    }
   ],
   "source": [
    "print(eligible)"
   ]
  },
  {
   "cell_type": "code",
   "execution_count": 17,
   "id": "9b3b65c5-2d99-4dec-8feb-85c222aa05f1",
   "metadata": {},
   "outputs": [
    {
     "name": "stdin",
     "output_type": "stream",
     "text": [
      "Subject1= 100\n",
      "Subject2= 100\n",
      "Subject3= 100\n",
      "Subject4= 99\n",
      "Subject5= 100\n"
     ]
    },
    {
     "name": "stdout",
     "output_type": "stream",
     "text": [
      "Total : 499\n",
      "Percentage : 99.8\n"
     ]
    }
   ],
   "source": [
    "def FindPercentage():\n",
    "    sub1=int(input(\"Subject1=\"))\n",
    "    sub2=int(input(\"Subject2=\"))\n",
    "    sub3=int(input(\"Subject3=\"))\n",
    "    sub4=int(input(\"Subject4=\"))\n",
    "    sub5=int(input(\"Subject5=\"))\n",
    "    tot = sub1+sub2+sub3+sub4+sub5\n",
    "    print(\"Total :\", tot)\n",
    "    return tot\n",
    "\n",
    "total = FindPercentage()\n",
    "Percentage = total / 5\n",
    "print(\"Percentage :\", Percentage)"
   ]
  },
  {
   "cell_type": "code",
   "execution_count": 26,
   "id": "3c90898a-5709-4308-9428-6fdfcd097a5f",
   "metadata": {},
   "outputs": [
    {
     "ename": "IndentationError",
     "evalue": "unexpected indent (1770121987.py, line 2)",
     "output_type": "error",
     "traceback": [
      "\u001b[1;36m  Cell \u001b[1;32mIn[26], line 2\u001b[1;36m\u001b[0m\n\u001b[1;33m    def markvalid():\u001b[0m\n\u001b[1;37m    ^\u001b[0m\n\u001b[1;31mIndentationError\u001b[0m\u001b[1;31m:\u001b[0m unexpected indent\n"
     ]
    }
   ],
   "source": [
    "# def FindPercentage():\n",
    "#     def markvalid():\n",
    "#         mark=int(input(\"Mark=\"))\n",
    "#         if mark <=100:\n",
    "#             return mark\n",
    "#         else:  print(\"Error: The number must not be greater than 100.\")\n",
    "\n",
    "#     sub1= markvalid()\n",
    "#     print(\"Subject1=\",sub1)\n",
    "#     sub2= markvalid()\n",
    "#     print(\"Subject1=\",sub2)\n",
    "#     sub3= markvalid()\n",
    "#     print(\"Subject1=\",sub3)\n",
    "#     sub4= markvalid()\n",
    "#     print(\"Subject1=\",sub4)\n",
    "#     sub5= markvalid()\n",
    "#     print(\"Subject1=\",sub5)\n",
    "        \n",
    "        \n",
    "#     sub1=int(input(\"Subject1=\"))\n",
    "        \n",
    "    \n",
    "#     sub2=int(input(\"Subject2=\"))\n",
    "#     if sub2 <=100:\n",
    "#         return sub2\n",
    "#     else:  print(\"Error: The number must not be greater than 100.\")\n",
    "#     sub3=int(input(\"Subject3=\"))\n",
    "#     if sub3 <=100:\n",
    "#         return sub3\n",
    "#     else:  print(\"Error: The number must not be greater than 100.\")\n",
    "#     sub4=int(input(\"Subject4=\"))\n",
    "#     if sub4 <=100:\n",
    "#         return sub4\n",
    "#     else:  print(\"Error: The number must not be greater than 100.\")\n",
    "#     sub5=int(input(\"Subject5=\"))\n",
    "#     if sub5 <=100:\n",
    "#         return sub5\n",
    "#     else:  print(\"Error: The number must not be greater than 100.\")\n",
    "        \n",
    "#     tot = sub1+sub2+sub3+sub4+sub5\n",
    "#     print(\"Total :\", tot)\n",
    "#     return tot\n",
    "\n",
    "# total = FindPercentage()\n",
    "# Percentage = total / 5\n",
    "# print(\"Percentage :\", Percentage) "
   ]
  },
  {
   "cell_type": "code",
   "execution_count": 31,
   "id": "ae72cdac-3045-425e-80ce-3d5f57290671",
   "metadata": {},
   "outputs": [
    {
     "name": "stdin",
     "output_type": "stream",
     "text": [
      "Height: 3\n",
      "Breadth: 4\n"
     ]
    },
    {
     "name": "stdout",
     "output_type": "stream",
     "text": [
      "Area Formula: (Height*Breadth)/2\n",
      "Area of Triangle: 6.0\n"
     ]
    },
    {
     "name": "stdin",
     "output_type": "stream",
     "text": [
      "Height1: 3\n",
      "Height2: 4\n",
      "Breadth: 45\n"
     ]
    },
    {
     "name": "stdout",
     "output_type": "stream",
     "text": [
      "Perimeter Formula: Height1+Height2+Breadth\n",
      "Perimeter of Triangle: 52\n"
     ]
    }
   ],
   "source": [
    "def triangle():\n",
    "    height =int(input(\"Height:\"))\n",
    "    breadth =int(input(\"Breadth:\"))\n",
    "    print(\"Area Formula: (Height*Breadth)/2\")\n",
    "    Area = (height*breadth)/2\n",
    "    print(\"Area of Triangle:\",Area)\n",
    "    height1 =int(input(\"Height1:\"))\n",
    "    height2 =int(input(\"Height2:\"))\n",
    "    breadth =int(input(\"Breadth:\"))\n",
    "    print(\"Perimeter Formula: Height1+Height2+Breadth\")\n",
    "    Peri = height1+height2+breadth\n",
    "    print(\"Perimeter of Triangle:\",Peri)  \n",
    "    \n",
    "triangle()"
   ]
  },
  {
   "cell_type": "code",
   "execution_count": null,
   "id": "bb7c3f5a-3079-4d46-85a7-60f3a8deee8b",
   "metadata": {},
   "outputs": [],
   "source": []
  }
 ],
 "metadata": {
  "kernelspec": {
   "display_name": "Python 3 (ipykernel)",
   "language": "python",
   "name": "python3"
  },
  "language_info": {
   "codemirror_mode": {
    "name": "ipython",
    "version": 3
   },
   "file_extension": ".py",
   "mimetype": "text/x-python",
   "name": "python",
   "nbconvert_exporter": "python",
   "pygments_lexer": "ipython3",
   "version": "3.12.7"
  }
 },
 "nbformat": 4,
 "nbformat_minor": 5
}
