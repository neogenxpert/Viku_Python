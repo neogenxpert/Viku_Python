{
  "nbformat": 4,
  "nbformat_minor": 0,
  "metadata": {
    "colab": {
      "provenance": [],
      "authorship_tag": "ABX9TyP/s2xG9tLxZ33AMzXccuiA",
      "include_colab_link": true
    },
    "kernelspec": {
      "name": "python3",
      "display_name": "Python 3"
    },
    "language_info": {
      "name": "python"
    }
  },
  "cells": [
    {
      "cell_type": "markdown",
      "metadata": {
        "id": "view-in-github",
        "colab_type": "text"
      },
      "source": [
        "<a href=\"https://colab.research.google.com/github/neogenxpert/Viku_Python/blob/main/Class_Assignments_1.ipynb\" target=\"_parent\"><img src=\"https://colab.research.google.com/assets/colab-badge.svg\" alt=\"Open In Colab\"/></a>"
      ]
    },
    {
      "cell_type": "code",
      "execution_count": 1,
      "metadata": {
        "id": "wH4Nzhw8Ht-v",
        "colab": {
          "base_uri": "https://localhost:8080/"
        },
        "outputId": "e98bcbef-f83e-4e3f-d959-d3f4c1f75225"
      },
      "outputs": [
        {
          "output_type": "stream",
          "name": "stdout",
          "text": [
            "Sub-fields in AI are:\n",
            "Machine Learning\n",
            "Neural Network\n",
            "Vision\n",
            "Robotics\n",
            "Speech Processing\n",
            "Natural langauge processing\n"
          ]
        }
      ],
      "source": [
        "class SubfieldsInAI():\n",
        "  def Subfields():\n",
        "    print(\"Sub-fields in AI are:\")\n",
        "    print(\"Machine Learning\")\n",
        "    print(\"Neural Network\")\n",
        "    print(\"Vision\")\n",
        "    print(\"Robotics\")\n",
        "    print(\"Speech Processing\")\n",
        "    print(\"Natural langauge processing\")\n",
        "\n",
        "SubfieldsInAI.Subfields()\n"
      ]
    },
    {
      "cell_type": "code",
      "source": [
        "class OddEven():\n",
        "  def OddEven():\n",
        "    num=int(input(\"Enter the Number:\"))\n",
        "    if (num%2 != 0):\n",
        "        print(num, \"is Odd Number\")\n",
        "        val = f\"{num } is a Odd Number\"\n",
        "    else:\n",
        "        print(\"is Even Number\")\n",
        "        val = f\"{num } is a Even Number\"\n",
        "    return val\n",
        "\n",
        "OddEven.OddEven()"
      ],
      "metadata": {
        "colab": {
          "base_uri": "https://localhost:8080/",
          "height": 70
        },
        "id": "Ri8-KpohPoQI",
        "outputId": "d0bd4461-f38f-4e60-b983-c62b714fc772"
      },
      "execution_count": 2,
      "outputs": [
        {
          "output_type": "stream",
          "name": "stdout",
          "text": [
            "Enter the Number:8\n",
            "is Even Number\n"
          ]
        },
        {
          "output_type": "execute_result",
          "data": {
            "text/plain": [
              "'8 is a Even Number'"
            ],
            "application/vnd.google.colaboratory.intrinsic+json": {
              "type": "string"
            }
          },
          "metadata": {},
          "execution_count": 2
        }
      ]
    },
    {
      "cell_type": "code",
      "source": [
        "class ElegiblityForMarriage():\n",
        "  def Marriage(gender,age):\n",
        "    if (gender.lower() == \"male\" and age <=20):\n",
        "        print(\"Your Gender:\", gender)\n",
        "        print(\"Your Age:\", age)\n",
        "        print(\"NOT ELIGIBLE\")\n",
        "        val = \"NOT ELIGIBLE\"\n",
        "    elif (gender.lower() == \"female\" and age <=17):\n",
        "        print(\"Your Gender:\", gender)\n",
        "        print(\"Your Age:\", age)\n",
        "        print(\"NOT ELIGIBLE\")\n",
        "        val = \"NOT ELIGIBLE\"\n",
        "    else:\n",
        "        print(\"ELIGIBLE\")\n",
        "        val = \"ELIGIBLE\"\n",
        "    return val\n",
        "\n",
        "ElegiblityForMarriage.Marriage(\"female\",28)\n"
      ],
      "metadata": {
        "id": "trUAa4EOQrN3",
        "outputId": "aa35c487-d0e9-4668-d931-f7acd7f960b6",
        "colab": {
          "base_uri": "https://localhost:8080/",
          "height": 53
        }
      },
      "execution_count": 5,
      "outputs": [
        {
          "output_type": "stream",
          "name": "stdout",
          "text": [
            "ELIGIBLE\n"
          ]
        },
        {
          "output_type": "execute_result",
          "data": {
            "text/plain": [
              "'ELIGIBLE'"
            ],
            "application/vnd.google.colaboratory.intrinsic+json": {
              "type": "string"
            }
          },
          "metadata": {},
          "execution_count": 5
        }
      ]
    },
    {
      "cell_type": "code",
      "source": [
        "class FindPercent():\n",
        "  def FindPercentage():\n",
        "    sub1=int(input(\"Subject1=\"))\n",
        "    sub2=int(input(\"Subject2=\"))\n",
        "    sub3=int(input(\"Subject3=\"))\n",
        "    sub4=int(input(\"Subject4=\"))\n",
        "    sub5=int(input(\"Subject5=\"))\n",
        "    tot = sub1+sub2+sub3+sub4+sub5\n",
        "    print(\"Total :\", tot)\n",
        "    Percentage = tot / 5\n",
        "    print(\"Percentage :\", Percentage)\n",
        "    return Percentage\n",
        "\n",
        "FindPercent.FindPercentage()\n"
      ],
      "metadata": {
        "id": "oKJsZwlyQyfM",
        "outputId": "694b3b5c-c4bc-424b-beae-19419dfef421",
        "colab": {
          "base_uri": "https://localhost:8080/"
        }
      },
      "execution_count": 7,
      "outputs": [
        {
          "output_type": "stream",
          "name": "stdout",
          "text": [
            "Subject1=15\n",
            "Subject2=12\n",
            "Subject3=56\n",
            "Subject4=32\n",
            "Subject5=14\n",
            "Total : 129\n",
            "Percentage : 25.8\n"
          ]
        },
        {
          "output_type": "execute_result",
          "data": {
            "text/plain": [
              "25.8"
            ]
          },
          "metadata": {},
          "execution_count": 7
        }
      ]
    },
    {
      "cell_type": "code",
      "source": [
        "class triangle():\n",
        "  def triangle():\n",
        "    height =int(input(\"Height:\"))\n",
        "    breadth =int(input(\"Breadth:\"))\n",
        "    print(\"Area Formula: (Height*Breadth)/2\")\n",
        "    Area = (height*breadth)/2\n",
        "    print(\"Area of Triangle:\",Area)\n",
        "    height1 =int(input(\"Height1:\"))\n",
        "    height2 =int(input(\"Height2:\"))\n",
        "    breadth =int(input(\"Breadth:\"))\n",
        "    print(\"Perimeter Formula: Height1+Height2+Breadth\")\n",
        "    Peri = height1+height2+breadth\n",
        "    print(\"Perimeter of Triangle:\",Peri)\n",
        "\n",
        "triangle.triangle()"
      ],
      "metadata": {
        "id": "RNuH3f1OQycc",
        "outputId": "ece17157-e2b8-4e97-d88f-3f6e5b82c191",
        "colab": {
          "base_uri": "https://localhost:8080/"
        }
      },
      "execution_count": 8,
      "outputs": [
        {
          "output_type": "stream",
          "name": "stdout",
          "text": [
            "Height:3\n",
            "Breadth:4\n",
            "Area Formula: (Height*Breadth)/2\n",
            "Area of Triangle: 6.0\n",
            "Height1:9\n",
            "Height2:6\n",
            "Breadth:85\n",
            "Perimeter Formula: Height1+Height2+Breadth\n",
            "Perimeter of Triangle: 100\n"
          ]
        }
      ]
    },
    {
      "cell_type": "code",
      "source": [],
      "metadata": {
        "id": "ZpzXjBBEQyZP"
      },
      "execution_count": null,
      "outputs": []
    },
    {
      "cell_type": "code",
      "source": [],
      "metadata": {
        "id": "PGjkkh87QyWU"
      },
      "execution_count": null,
      "outputs": []
    },
    {
      "cell_type": "code",
      "source": [],
      "metadata": {
        "id": "8LBnGqjwQySe"
      },
      "execution_count": null,
      "outputs": []
    }
  ]
}