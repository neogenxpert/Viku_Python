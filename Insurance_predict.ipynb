{
  "nbformat": 4,
  "nbformat_minor": 0,
  "metadata": {
    "colab": {
      "provenance": [],
      "authorship_tag": "ABX9TyPKqDzMXXgBnXEzfEYiWiU4",
      "include_colab_link": true
    },
    "kernelspec": {
      "name": "python3",
      "display_name": "Python 3"
    },
    "language_info": {
      "name": "python"
    }
  },
  "cells": [
    {
      "cell_type": "markdown",
      "metadata": {
        "id": "view-in-github",
        "colab_type": "text"
      },
      "source": [
        "<a href=\"https://colab.research.google.com/github/neogenxpert/Viku_Python/blob/neogenxpert-ML/Insurance_predict.ipynb\" target=\"_parent\"><img src=\"https://colab.research.google.com/assets/colab-badge.svg\" alt=\"Open In Colab\"/></a>"
      ]
    },
    {
      "cell_type": "code",
      "execution_count": 1,
      "metadata": {
        "id": "s_X1sfA29WIZ"
      },
      "outputs": [],
      "source": [
        "import pickle"
      ]
    },
    {
      "cell_type": "code",
      "source": [
        "#Load the model\n",
        "load_model = pickle.load(open(\"Final_Model.sav\",'rb'))\n",
        "#input = input(\"Enter the input: age,bmi,No of children,sex_male(True/False),smoker_yesTrue/False) \")\n",
        "print(\"Enter the input: age,bmi,No of children,sex_male(True/False),smoker_yes(True/False) \")"
      ],
      "metadata": {
        "colab": {
          "base_uri": "https://localhost:8080/"
        },
        "id": "RIcmiCeU-J_Z",
        "outputId": "8523a658-7635-4b8f-8d55-45e2ee8f6f12"
      },
      "execution_count": 12,
      "outputs": [
        {
          "output_type": "stream",
          "name": "stdout",
          "text": [
            "Enter the input: age,bmi,No of children,sex_male(True/False),smoker_yes(True/False) \n"
          ]
        }
      ]
    },
    {
      "cell_type": "code",
      "source": [
        "#Execute the model with the inputs\n",
        "Result = load_model.predict([[44,34.76,3,True,False]])"
      ],
      "metadata": {
        "colab": {
          "base_uri": "https://localhost:8080/"
        },
        "id": "KuuC667r_hbG",
        "outputId": "4295b047-fc07-416d-be9d-1ae2286ba7e2"
      },
      "execution_count": 14,
      "outputs": [
        {
          "output_type": "stream",
          "name": "stderr",
          "text": [
            "/usr/local/lib/python3.11/dist-packages/sklearn/utils/validation.py:2739: UserWarning: X does not have valid feature names, but RandomForestRegressor was fitted with feature names\n",
            "  warnings.warn(\n"
          ]
        },
        {
          "output_type": "execute_result",
          "data": {
            "text/plain": [
              "array([9450.0973453])"
            ]
          },
          "metadata": {},
          "execution_count": 14
        }
      ]
    },
    {
      "cell_type": "code",
      "source": [
        "print(\"The Predicted amount for the given inputs: \",Result)"
      ],
      "metadata": {
        "colab": {
          "base_uri": "https://localhost:8080/"
        },
        "id": "7be8HdPKCv2h",
        "outputId": "a9f8aa59-ed00-4fae-9372-495a80bf3539"
      },
      "execution_count": 15,
      "outputs": [
        {
          "output_type": "stream",
          "name": "stdout",
          "text": [
            "The Predicted amount for the given inputs:  [9450.0973453]\n"
          ]
        }
      ]
    },
    {
      "cell_type": "code",
      "source": [],
      "metadata": {
        "id": "euWLsGKdE_K7"
      },
      "execution_count": null,
      "outputs": []
    }
  ]
}