{
  "nbformat": 4,
  "nbformat_minor": 0,
  "metadata": {
    "colab": {
      "provenance": [],
      "authorship_tag": "ABX9TyOnLsypLByPz/K/oMUnK7Or",
      "include_colab_link": true
    },
    "kernelspec": {
      "name": "python3",
      "display_name": "Python 3"
    },
    "language_info": {
      "name": "python"
    }
  },
  "cells": [
    {
      "cell_type": "markdown",
      "metadata": {
        "id": "view-in-github",
        "colab_type": "text"
      },
      "source": [
        "<a href=\"https://colab.research.google.com/github/neogenxpert/Viku_Python/blob/neogenxpert-ML/SVM_GridSearc.ipynb\" target=\"_parent\"><img src=\"https://colab.research.google.com/assets/colab-badge.svg\" alt=\"Open In Colab\"/></a>"
      ]
    },
    {
      "cell_type": "code",
      "execution_count": 1,
      "metadata": {
        "id": "z5PoEsqbL42r"
      },
      "outputs": [],
      "source": [
        "import pandas as pd\n",
        "ds=pd.read_csv(\"insurance_pre.csv\")\n",
        "ds=pd.get_dummies(ds,drop_first=True)"
      ]
    },
    {
      "cell_type": "code",
      "source": [
        "independent = ds.iloc[:,[0,1,2,4,5]]\n",
        "dependent = ds.iloc[:,3]"
      ],
      "metadata": {
        "id": "Jqr1REmGNrdS"
      },
      "execution_count": 2,
      "outputs": []
    },
    {
      "cell_type": "code",
      "source": [
        "from sklearn.model_selection import train_test_split\n",
        "x_train,x_test,y_train,y_test=train_test_split(independent,dependent,test_size=0.30,random_state=0)\n"
      ],
      "metadata": {
        "id": "rS5o1UYTOMrQ"
      },
      "execution_count": 3,
      "outputs": []
    },
    {
      "cell_type": "code",
      "source": [
        "from sklearn.model_selection import GridSearchCV\n",
        "from sklearn.svm import SVR\n",
        "par_grid = {'kernel':['linear','rbf','sigmoid','poly'], 'C':[10,100], 'gamma':['auto','scale'] }\n",
        "Regressor = GridSearchCV(SVR(), par_grid, refit = True, verbose = 3, n_jobs=-1)\n",
        "Regressor.fit(x_train, y_train)"
      ],
      "metadata": {
        "colab": {
          "base_uri": "https://localhost:8080/"
        },
        "id": "OE_pwysIOruA",
        "outputId": "5ae3ae15-766f-4fed-825d-caba798ad09a"
      },
      "execution_count": null,
      "outputs": [
        {
          "output_type": "stream",
          "name": "stdout",
          "text": [
            "Fitting 5 folds for each of 16 candidates, totalling 80 fits\n"
          ]
        }
      ]
    },
    {
      "cell_type": "code",
      "source": [
        "grid = Regressor.cv_results_\n",
        "grid"
      ],
      "metadata": {
        "id": "e1Ptu4veUqVm"
      },
      "execution_count": null,
      "outputs": []
    },
    {
      "cell_type": "code",
      "source": [
        "table = pd.DataFrame.from_dict(grid)\n",
        "table"
      ],
      "metadata": {
        "id": "1sjXxWg1U3WZ"
      },
      "execution_count": null,
      "outputs": []
    },
    {
      "cell_type": "code",
      "source": [],
      "metadata": {
        "id": "E5DjgtGLUqFB"
      },
      "execution_count": null,
      "outputs": []
    },
    {
      "cell_type": "code",
      "source": [
        "# Model Learning\n",
        "y_pred=Regressor.predict(x_test)"
      ],
      "metadata": {
        "id": "ot7lkElhRKrR"
      },
      "execution_count": null,
      "outputs": []
    },
    {
      "cell_type": "code",
      "source": [
        "rom sklearn.metrics import r2_score\n",
        "r_score=r2_score(y_test,y_pred)\n",
        "r_score"
      ],
      "metadata": {
        "id": "71jtsq8yS7KN"
      },
      "execution_count": null,
      "outputs": []
    }
  ]
}