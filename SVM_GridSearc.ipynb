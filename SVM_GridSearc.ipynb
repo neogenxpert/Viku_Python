{
  "nbformat": 4,
  "nbformat_minor": 0,
  "metadata": {
    "colab": {
      "provenance": [],
      "authorship_tag": "ABX9TyOphQnHPL+ymPNZnQ1q8cCh",
      "include_colab_link": true
    },
    "kernelspec": {
      "name": "python3",
      "display_name": "Python 3"
    },
    "language_info": {
      "name": "python"
    }
  },
  "cells": [
    {
      "cell_type": "markdown",
      "metadata": {
        "id": "view-in-github",
        "colab_type": "text"
      },
      "source": [
        "<a href=\"https://colab.research.google.com/github/neogenxpert/Viku_Python/blob/neogenxpert-ML/SVM_GridSearc.ipynb\" target=\"_parent\"><img src=\"https://colab.research.google.com/assets/colab-badge.svg\" alt=\"Open In Colab\"/></a>"
      ]
    },
    {
      "cell_type": "code",
      "execution_count": 24,
      "metadata": {
        "id": "z5PoEsqbL42r"
      },
      "outputs": [],
      "source": [
        "import pandas as pd\n",
        "ds=pd.read_csv(\"insurance_pre.csv\")\n",
        "ds=pd.get_dummies(ds,drop_first=True)"
      ]
    },
    {
      "cell_type": "code",
      "source": [
        "independent = ds.iloc[:,[0,1,2,4,5]]\n",
        "dependent = ds.iloc[:,3]"
      ],
      "metadata": {
        "id": "Jqr1REmGNrdS"
      },
      "execution_count": 25,
      "outputs": []
    },
    {
      "cell_type": "code",
      "source": [
        "from sklearn.model_selection import train_test_split\n",
        "x_train,x_test,y_train,y_test=train_test_split(independent,dependent,test_size=0.30,random_state=0)\n"
      ],
      "metadata": {
        "id": "rS5o1UYTOMrQ"
      },
      "execution_count": 26,
      "outputs": []
    },
    {
      "cell_type": "code",
      "source": [
        "from sklearn.model_selection import GridSearchCV\n",
        "from sklearn.svm import SVR\n",
        "par_grid = {'kernel':['linear','rbf','sigmoid','poly'], 'C':[1,10,100], 'gamma':['auto','scale'] }\n",
        "Regressor = GridSearchCV(SVR(), par_grid, refit = True, verbose = 3, n_jobs=-1)\n",
        "Regressor.fit(x_train, y_train)"
      ],
      "metadata": {
        "id": "OE_pwysIOruA",
        "outputId": "c215caa3-dac4-4ff6-d209-7c736304f968",
        "colab": {
          "base_uri": "https://localhost:8080/"
        }
      },
      "execution_count": null,
      "outputs": [
        {
          "output_type": "stream",
          "name": "stdout",
          "text": [
            "Fitting 5 folds for each of 16 candidates, totalling 80 fits\n"
          ]
        }
      ]
    },
    {
      "cell_type": "code",
      "source": [
        "# Model Learning\n",
        "y_pred=Regressor.predict(x_test)"
      ],
      "metadata": {
        "id": "ot7lkElhRKrR"
      },
      "execution_count": null,
      "outputs": []
    },
    {
      "cell_type": "code",
      "source": [
        "rom sklearn.metrics import r2_score\n",
        "r_score=r2_score(y_test,y_pred)\n",
        "r_score"
      ],
      "metadata": {
        "id": "71jtsq8yS7KN"
      },
      "execution_count": null,
      "outputs": []
    }
  ]
}