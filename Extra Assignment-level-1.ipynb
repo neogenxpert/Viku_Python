{
 "cells": [
  {
   "cell_type": "code",
   "execution_count": 1,
   "id": "d032abdc-244a-4cad-ae66-ff715a2c66d5",
   "metadata": {},
   "outputs": [
    {
     "name": "stdout",
     "output_type": "stream",
     "text": [
      "Hope AI\n"
     ]
    }
   ],
   "source": [
    "print(\"Hope AI\")"
   ]
  },
  {
   "cell_type": "code",
   "execution_count": 2,
   "id": "48419a88-7292-47de-a95b-367d210db470",
   "metadata": {},
   "outputs": [
    {
     "name": "stdin",
     "output_type": "stream",
     "text": [
      "Enter your institute name? Hope AI\n"
     ]
    }
   ],
   "source": [
    "value=input(\"Enter your institute name?\")"
   ]
  },
  {
   "cell_type": "code",
   "execution_count": 3,
   "id": "dd0b38cf-d358-4c6f-a50a-5f2ba52397bc",
   "metadata": {},
   "outputs": [
    {
     "name": "stdin",
     "output_type": "stream",
     "text": [
      "Enter your name: Vijay\n",
      "Enter your age: 42\n",
      "Enter your School name: Petit Seminar\n",
      "Enter your Degree: EPBM\n"
     ]
    }
   ],
   "source": [
    "Name=input(\"Enter your name:\")\n",
    "Age=int(input(\"Enter your age:\"))\n",
    "School=input(\"Enter your School name:\")\n",
    "Degree= input(\"Enter your Degree:\")"
   ]
  },
  {
   "cell_type": "code",
   "execution_count": 5,
   "id": "29c19ffb-2830-4551-904c-e76df226df67",
   "metadata": {},
   "outputs": [
    {
     "name": "stdin",
     "output_type": "stream",
     "text": [
      "a= 43\n",
      "b= 34\n"
     ]
    },
    {
     "name": "stdout",
     "output_type": "stream",
     "text": [
      "add = 77\n"
     ]
    }
   ],
   "source": [
    "a= int(input(\"a=\"))\n",
    "b= int(input(\"b=\"))\n",
    "val = a+b\n",
    "print(\"add =\",val)"
   ]
  },
  {
   "cell_type": "code",
   "execution_count": 6,
   "id": "027e3311-f59d-43ee-9f3b-c047491ddf12",
   "metadata": {},
   "outputs": [
    {
     "name": "stdin",
     "output_type": "stream",
     "text": [
      "a= 63\n",
      "b= 97\n"
     ]
    },
    {
     "name": "stdout",
     "output_type": "stream",
     "text": [
      "Sub = -34\n"
     ]
    }
   ],
   "source": [
    "a= int(input(\"a=\"))\n",
    "b= int(input(\"b=\"))\n",
    "val = a-b\n",
    "print(\"Sub =\",val)"
   ]
  },
  {
   "cell_type": "code",
   "execution_count": 7,
   "id": "357a2f22-3a53-4599-82ee-2745a74d3c0a",
   "metadata": {},
   "outputs": [
    {
     "name": "stdin",
     "output_type": "stream",
     "text": [
      "a= 63\n",
      "b= 97\n"
     ]
    },
    {
     "name": "stdout",
     "output_type": "stream",
     "text": [
      "Mul = 6111\n"
     ]
    }
   ],
   "source": [
    "a= int(input(\"a=\"))\n",
    "b= int(input(\"b=\"))\n",
    "val = a*b\n",
    "print(\"Mul =\",val)"
   ]
  },
  {
   "cell_type": "code",
   "execution_count": 9,
   "id": "618b3b00-ccad-4af1-a13c-ebf75902d03a",
   "metadata": {},
   "outputs": [
    {
     "name": "stdin",
     "output_type": "stream",
     "text": [
      "a= 76\n",
      "b= 31\n"
     ]
    },
    {
     "name": "stdout",
     "output_type": "stream",
     "text": [
      "Float Div = 2\n"
     ]
    }
   ],
   "source": [
    "a= int(input(\"a=\"))\n",
    "b= int(input(\"b=\"))\n",
    "val = a//b\n",
    "print(\"Float Div =\",val)"
   ]
  },
  {
   "cell_type": "code",
   "execution_count": 10,
   "id": "f5b60350-8382-41f0-9752-a72c0cf29007",
   "metadata": {},
   "outputs": [
    {
     "name": "stdin",
     "output_type": "stream",
     "text": [
      "a= 76\n",
      "b= 31\n"
     ]
    },
    {
     "name": "stdout",
     "output_type": "stream",
     "text": [
      "Modulo = 14\n"
     ]
    }
   ],
   "source": [
    "a= int(input(\"a=\"))\n",
    "b= int(input(\"b=\"))\n",
    "val = a%b\n",
    "print(\"Modulo =\",val)"
   ]
  },
  {
   "cell_type": "code",
   "execution_count": 11,
   "id": "385a8075-9767-4178-8e6d-518bd0988256",
   "metadata": {},
   "outputs": [
    {
     "name": "stdin",
     "output_type": "stream",
     "text": [
      "a= 4\n",
      "b= 4\n"
     ]
    },
    {
     "name": "stdout",
     "output_type": "stream",
     "text": [
      "Power = 256\n"
     ]
    }
   ],
   "source": [
    "a= int(input(\"a=\"))\n",
    "b= int(input(\"b=\"))\n",
    "val = a**b\n",
    "print(\"Power =\",val)"
   ]
  },
  {
   "cell_type": "code",
   "execution_count": null,
   "id": "cc36d3d1-fa32-43c5-9f09-da10ed7167c1",
   "metadata": {},
   "outputs": [],
   "source": []
  }
 ],
 "metadata": {
  "kernelspec": {
   "display_name": "Python 3 (ipykernel)",
   "language": "python",
   "name": "python3"
  },
  "language_info": {
   "codemirror_mode": {
    "name": "ipython",
    "version": 3
   },
   "file_extension": ".py",
   "mimetype": "text/x-python",
   "name": "python",
   "nbconvert_exporter": "python",
   "pygments_lexer": "ipython3",
   "version": "3.12.7"
  }
 },
 "nbformat": 4,
 "nbformat_minor": 5
}
